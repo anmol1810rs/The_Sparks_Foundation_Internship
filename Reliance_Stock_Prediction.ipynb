{
  "nbformat": 4,
  "nbformat_minor": 0,
  "metadata": {
    "colab": {
      "name": "Reliance_Stock_Prediction.ipynb",
      "provenance": [],
      "authorship_tag": "ABX9TyMK9g5gTgbXMMCyxDSN5EAz",
      "include_colab_link": true
    },
    "kernelspec": {
      "name": "python3",
      "display_name": "Python 3"
    }
  },
  "cells": [
    {
      "cell_type": "markdown",
      "metadata": {
        "id": "view-in-github",
        "colab_type": "text"
      },
      "source": [
        "<a href=\"https://colab.research.google.com/github/anmol1810rs/The_Sparks_Foundation_Internship/blob/main/Reliance_Stock_Prediction.ipynb\" target=\"_parent\"><img src=\"https://colab.research.google.com/assets/colab-badge.svg\" alt=\"Open In Colab\"/></a>"
      ]
    },
    {
      "cell_type": "markdown",
      "metadata": {
        "id": "HIfF5cNUhm0G"
      },
      "source": [
        "# **GRIP_TASK7_STOCK_PREDICTION_&_SENTIMENT_ANALYSIS**\r\n",
        "  \r\n",
        "  **Author: Anmol Malhotra**"
      ]
    },
    {
      "cell_type": "markdown",
      "metadata": {
        "id": "BwtshcCqiNpk"
      },
      "source": [
        "# **PROBLEM STATEMENT:**"
      ]
    },
    {
      "cell_type": "markdown",
      "metadata": {
        "id": "WvYdVt8_h7aS"
      },
      "source": [
        "**Create a hybrid model for stock price/performance\r\n",
        "prediction using numerical analysis of historical stock prices, and\r\n",
        "sentimental analysis of news headlines**"
      ]
    },
    {
      "cell_type": "markdown",
      "metadata": {
        "id": "EvGEJlBiiDec"
      },
      "source": [
        ""
      ]
    },
    {
      "cell_type": "code",
      "metadata": {
        "id": "W2n7Z7VgRRcx"
      },
      "source": [
        "#Importing the necessary libraries\n",
        "import numpy as np\n",
        "import pandas as pd\n",
        "import matplotlib.pyplot as plt\n",
        "import datetime "
      ],
      "execution_count": null,
      "outputs": []
    },
    {
      "cell_type": "code",
      "metadata": {
        "id": "9uMcuIjxJ5ZU"
      },
      "source": [
        "from google.colab import drive\n",
        "drive.mount('/content/drive')"
      ],
      "execution_count": null,
      "outputs": []
    },
    {
      "cell_type": "code",
      "metadata": {
        "id": "VVnox-jbSVPX"
      },
      "source": [
        "#Importing hte dataset\r\n",
        "dataset = pd.read_csv(r'/content/Reliance_Data',index_col=\"Date\", parse_dates=True)"
      ],
      "execution_count": null,
      "outputs": []
    },
    {
      "cell_type": "code",
      "metadata": {
        "id": "tI6hf1U6S66h",
        "colab": {
          "base_uri": "https://localhost:8080/",
          "height": 669
        },
        "outputId": "d9be317d-deb3-4cbe-bc3e-bf38bce774d8"
      },
      "source": [
        "dataset.head(20)"
      ],
      "execution_count": null,
      "outputs": [
        {
          "output_type": "execute_result",
          "data": {
            "text/html": [
              "<div>\n",
              "<style scoped>\n",
              "    .dataframe tbody tr th:only-of-type {\n",
              "        vertical-align: middle;\n",
              "    }\n",
              "\n",
              "    .dataframe tbody tr th {\n",
              "        vertical-align: top;\n",
              "    }\n",
              "\n",
              "    .dataframe thead th {\n",
              "        text-align: right;\n",
              "    }\n",
              "</style>\n",
              "<table border=\"1\" class=\"dataframe\">\n",
              "  <thead>\n",
              "    <tr style=\"text-align: right;\">\n",
              "      <th></th>\n",
              "      <th>Open</th>\n",
              "      <th>High</th>\n",
              "      <th>Low</th>\n",
              "      <th>Close</th>\n",
              "      <th>Volume</th>\n",
              "      <th>Chg%</th>\n",
              "    </tr>\n",
              "    <tr>\n",
              "      <th>Date</th>\n",
              "      <th></th>\n",
              "      <th></th>\n",
              "      <th></th>\n",
              "      <th></th>\n",
              "      <th></th>\n",
              "      <th></th>\n",
              "    </tr>\n",
              "  </thead>\n",
              "  <tbody>\n",
              "    <tr>\n",
              "      <th>2020-11-12</th>\n",
              "      <td>1,984.90</td>\n",
              "      <td>2,007.35</td>\n",
              "      <td>1,970.05</td>\n",
              "      <td>1,987.35</td>\n",
              "      <td>12.35M</td>\n",
              "      <td>-0.49%</td>\n",
              "    </tr>\n",
              "    <tr>\n",
              "      <th>2020-11-11</th>\n",
              "      <td>2,089.00</td>\n",
              "      <td>2,095.00</td>\n",
              "      <td>1,978.10</td>\n",
              "      <td>1,997.20</td>\n",
              "      <td>26.18M</td>\n",
              "      <td>-4.19%</td>\n",
              "    </tr>\n",
              "    <tr>\n",
              "      <th>2020-11-10</th>\n",
              "      <td>2,077.00</td>\n",
              "      <td>2,090.00</td>\n",
              "      <td>2,041.20</td>\n",
              "      <td>2,084.55</td>\n",
              "      <td>17.05M</td>\n",
              "      <td>1.65%</td>\n",
              "    </tr>\n",
              "    <tr>\n",
              "      <th>2020-11-09</th>\n",
              "      <td>2,062.10</td>\n",
              "      <td>2,069.00</td>\n",
              "      <td>2,036.00</td>\n",
              "      <td>2,050.70</td>\n",
              "      <td>16.54M</td>\n",
              "      <td>1.06%</td>\n",
              "    </tr>\n",
              "    <tr>\n",
              "      <th>2020-11-06</th>\n",
              "      <td>1,990.00</td>\n",
              "      <td>2,040.00</td>\n",
              "      <td>1,978.15</td>\n",
              "      <td>2,029.15</td>\n",
              "      <td>30.77M</td>\n",
              "      <td>3.79%</td>\n",
              "    </tr>\n",
              "    <tr>\n",
              "      <th>2020-11-05</th>\n",
              "      <td>1,954.95</td>\n",
              "      <td>1,960.95</td>\n",
              "      <td>1,932.00</td>\n",
              "      <td>1,955.00</td>\n",
              "      <td>17.17M</td>\n",
              "      <td>2.18%</td>\n",
              "    </tr>\n",
              "    <tr>\n",
              "      <th>2020-11-04</th>\n",
              "      <td>1,837.00</td>\n",
              "      <td>1,929.00</td>\n",
              "      <td>1,837.00</td>\n",
              "      <td>1,913.20</td>\n",
              "      <td>37.00M</td>\n",
              "      <td>3.39%</td>\n",
              "    </tr>\n",
              "    <tr>\n",
              "      <th>2020-11-03</th>\n",
              "      <td>1,890.00</td>\n",
              "      <td>1,909.00</td>\n",
              "      <td>1,835.10</td>\n",
              "      <td>1,850.40</td>\n",
              "      <td>40.93M</td>\n",
              "      <td>-1.44%</td>\n",
              "    </tr>\n",
              "    <tr>\n",
              "      <th>2020-11-02</th>\n",
              "      <td>2,027.00</td>\n",
              "      <td>2,027.00</td>\n",
              "      <td>1,859.15</td>\n",
              "      <td>1,877.45</td>\n",
              "      <td>45.86M</td>\n",
              "      <td>-8.62%</td>\n",
              "    </tr>\n",
              "    <tr>\n",
              "      <th>2020-10-30</th>\n",
              "      <td>2,033.50</td>\n",
              "      <td>2,065.10</td>\n",
              "      <td>2,021.80</td>\n",
              "      <td>2,054.50</td>\n",
              "      <td>15.70M</td>\n",
              "      <td>1.36%</td>\n",
              "    </tr>\n",
              "    <tr>\n",
              "      <th>2020-10-29</th>\n",
              "      <td>1,997.00</td>\n",
              "      <td>2,042.00</td>\n",
              "      <td>1,991.00</td>\n",
              "      <td>2,026.90</td>\n",
              "      <td>14.15M</td>\n",
              "      <td>0.77%</td>\n",
              "    </tr>\n",
              "    <tr>\n",
              "      <th>2020-10-28</th>\n",
              "      <td>2,041.80</td>\n",
              "      <td>2,057.70</td>\n",
              "      <td>2,007.40</td>\n",
              "      <td>2,011.45</td>\n",
              "      <td>13.81M</td>\n",
              "      <td>-1.13%</td>\n",
              "    </tr>\n",
              "    <tr>\n",
              "      <th>2020-10-27</th>\n",
              "      <td>2,034.90</td>\n",
              "      <td>2,059.85</td>\n",
              "      <td>2,005.00</td>\n",
              "      <td>2,034.50</td>\n",
              "      <td>16.84M</td>\n",
              "      <td>0.27%</td>\n",
              "    </tr>\n",
              "    <tr>\n",
              "      <th>2020-10-26</th>\n",
              "      <td>2,101.95</td>\n",
              "      <td>2,101.95</td>\n",
              "      <td>2,018.50</td>\n",
              "      <td>2,029.10</td>\n",
              "      <td>17.23M</td>\n",
              "      <td>-3.97%</td>\n",
              "    </tr>\n",
              "    <tr>\n",
              "      <th>2020-10-23</th>\n",
              "      <td>2,106.00</td>\n",
              "      <td>2,135.00</td>\n",
              "      <td>2,096.40</td>\n",
              "      <td>2,113.05</td>\n",
              "      <td>10.81M</td>\n",
              "      <td>0.05%</td>\n",
              "    </tr>\n",
              "    <tr>\n",
              "      <th>2020-10-22</th>\n",
              "      <td>2,127.95</td>\n",
              "      <td>2,131.25</td>\n",
              "      <td>2,092.00</td>\n",
              "      <td>2,111.90</td>\n",
              "      <td>14.21M</td>\n",
              "      <td>-0.60%</td>\n",
              "    </tr>\n",
              "    <tr>\n",
              "      <th>2020-10-21</th>\n",
              "      <td>2,168.00</td>\n",
              "      <td>2,192.00</td>\n",
              "      <td>2,097.75</td>\n",
              "      <td>2,124.60</td>\n",
              "      <td>15.73M</td>\n",
              "      <td>-1.45%</td>\n",
              "    </tr>\n",
              "    <tr>\n",
              "      <th>2020-10-20</th>\n",
              "      <td>2,179.00</td>\n",
              "      <td>2,193.00</td>\n",
              "      <td>2,152.25</td>\n",
              "      <td>2,155.90</td>\n",
              "      <td>8.53M</td>\n",
              "      <td>-0.93%</td>\n",
              "    </tr>\n",
              "    <tr>\n",
              "      <th>2020-10-19</th>\n",
              "      <td>2,190.05</td>\n",
              "      <td>2,228.70</td>\n",
              "      <td>2,155.15</td>\n",
              "      <td>2,176.20</td>\n",
              "      <td>14.40M</td>\n",
              "      <td>0.02%</td>\n",
              "    </tr>\n",
              "    <tr>\n",
              "      <th>2020-10-16</th>\n",
              "      <td>2,215.00</td>\n",
              "      <td>2,232.50</td>\n",
              "      <td>2,172.65</td>\n",
              "      <td>2,175.80</td>\n",
              "      <td>9.96M</td>\n",
              "      <td>-1.39%</td>\n",
              "    </tr>\n",
              "  </tbody>\n",
              "</table>\n",
              "</div>"
            ],
            "text/plain": [
              "                Open      High       Low     Close  Volume    Chg%\n",
              "Date                                                              \n",
              "2020-11-12  1,984.90  2,007.35  1,970.05  1,987.35  12.35M  -0.49%\n",
              "2020-11-11  2,089.00  2,095.00  1,978.10  1,997.20  26.18M  -4.19%\n",
              "2020-11-10  2,077.00  2,090.00  2,041.20  2,084.55  17.05M   1.65%\n",
              "2020-11-09  2,062.10  2,069.00  2,036.00  2,050.70  16.54M   1.06%\n",
              "2020-11-06  1,990.00  2,040.00  1,978.15  2,029.15  30.77M   3.79%\n",
              "2020-11-05  1,954.95  1,960.95  1,932.00  1,955.00  17.17M   2.18%\n",
              "2020-11-04  1,837.00  1,929.00  1,837.00  1,913.20  37.00M   3.39%\n",
              "2020-11-03  1,890.00  1,909.00  1,835.10  1,850.40  40.93M  -1.44%\n",
              "2020-11-02  2,027.00  2,027.00  1,859.15  1,877.45  45.86M  -8.62%\n",
              "2020-10-30  2,033.50  2,065.10  2,021.80  2,054.50  15.70M   1.36%\n",
              "2020-10-29  1,997.00  2,042.00  1,991.00  2,026.90  14.15M   0.77%\n",
              "2020-10-28  2,041.80  2,057.70  2,007.40  2,011.45  13.81M  -1.13%\n",
              "2020-10-27  2,034.90  2,059.85  2,005.00  2,034.50  16.84M   0.27%\n",
              "2020-10-26  2,101.95  2,101.95  2,018.50  2,029.10  17.23M  -3.97%\n",
              "2020-10-23  2,106.00  2,135.00  2,096.40  2,113.05  10.81M   0.05%\n",
              "2020-10-22  2,127.95  2,131.25  2,092.00  2,111.90  14.21M  -0.60%\n",
              "2020-10-21  2,168.00  2,192.00  2,097.75  2,124.60  15.73M  -1.45%\n",
              "2020-10-20  2,179.00  2,193.00  2,152.25  2,155.90   8.53M  -0.93%\n",
              "2020-10-19  2,190.05  2,228.70  2,155.15  2,176.20  14.40M   0.02%\n",
              "2020-10-16  2,215.00  2,232.50  2,172.65  2,175.80   9.96M  -1.39%"
            ]
          },
          "metadata": {
            "tags": []
          },
          "execution_count": 79
        }
      ]
    },
    {
      "cell_type": "code",
      "metadata": {
        "id": "VHejLKaES9tm",
        "colab": {
          "base_uri": "https://localhost:8080/"
        },
        "outputId": "c1d49171-121e-47c2-bb81-1ba10d13df69"
      },
      "source": [
        "# Analyzing if any NULL values are present or not \r\n",
        "dataset.isna().any()"
      ],
      "execution_count": null,
      "outputs": [
        {
          "output_type": "execute_result",
          "data": {
            "text/plain": [
              "Open      False\n",
              "High      False\n",
              "Low       False\n",
              "Close     False\n",
              "Volume    False\n",
              "Chg%      False\n",
              "dtype: bool"
            ]
          },
          "metadata": {
            "tags": []
          },
          "execution_count": 80
        }
      ]
    },
    {
      "cell_type": "code",
      "metadata": {
        "id": "22k-rb7tTRnu",
        "colab": {
          "base_uri": "https://localhost:8080/"
        },
        "outputId": "4eddcaf9-eeac-42d9-c3c1-74d7e3d85151"
      },
      "source": [
        "# Analyzing the data types of all the attributes present\r\n",
        "dataset.info()"
      ],
      "execution_count": null,
      "outputs": [
        {
          "output_type": "stream",
          "text": [
            "<class 'pandas.core.frame.DataFrame'>\n",
            "DatetimeIndex: 1980 entries, 2020-11-12 to 2012-11-12\n",
            "Data columns (total 6 columns):\n",
            " #   Column  Non-Null Count  Dtype \n",
            "---  ------  --------------  ----- \n",
            " 0   Open    1980 non-null   object\n",
            " 1   High    1980 non-null   object\n",
            " 2   Low     1980 non-null   object\n",
            " 3   Close   1980 non-null   object\n",
            " 4   Volume  1980 non-null   object\n",
            " 5   Chg%    1980 non-null   object\n",
            "dtypes: object(6)\n",
            "memory usage: 108.3+ KB\n"
          ],
          "name": "stdout"
        }
      ]
    },
    {
      "cell_type": "code",
      "metadata": {
        "id": "tqpsdxNsTdYB"
      },
      "source": [
        "# Since the change% is an irrelevant column we drop that \r\n",
        "dataset.drop(columns=['Chg%'], inplace =True)"
      ],
      "execution_count": null,
      "outputs": []
    },
    {
      "cell_type": "code",
      "metadata": {
        "id": "ntYfC4hSmIqe",
        "colab": {
          "base_uri": "https://localhost:8080/",
          "height": 373
        },
        "outputId": "9efeeaa2-3fc9-45f9-a467-713ff819b539"
      },
      "source": [
        "dataset.head(10)"
      ],
      "execution_count": null,
      "outputs": [
        {
          "output_type": "execute_result",
          "data": {
            "text/html": [
              "<div>\n",
              "<style scoped>\n",
              "    .dataframe tbody tr th:only-of-type {\n",
              "        vertical-align: middle;\n",
              "    }\n",
              "\n",
              "    .dataframe tbody tr th {\n",
              "        vertical-align: top;\n",
              "    }\n",
              "\n",
              "    .dataframe thead th {\n",
              "        text-align: right;\n",
              "    }\n",
              "</style>\n",
              "<table border=\"1\" class=\"dataframe\">\n",
              "  <thead>\n",
              "    <tr style=\"text-align: right;\">\n",
              "      <th></th>\n",
              "      <th>Open</th>\n",
              "      <th>High</th>\n",
              "      <th>Low</th>\n",
              "      <th>Close</th>\n",
              "      <th>Volume</th>\n",
              "    </tr>\n",
              "    <tr>\n",
              "      <th>Date</th>\n",
              "      <th></th>\n",
              "      <th></th>\n",
              "      <th></th>\n",
              "      <th></th>\n",
              "      <th></th>\n",
              "    </tr>\n",
              "  </thead>\n",
              "  <tbody>\n",
              "    <tr>\n",
              "      <th>2020-11-12</th>\n",
              "      <td>1,984.90</td>\n",
              "      <td>2,007.35</td>\n",
              "      <td>1,970.05</td>\n",
              "      <td>1,987.35</td>\n",
              "      <td>12.35M</td>\n",
              "    </tr>\n",
              "    <tr>\n",
              "      <th>2020-11-11</th>\n",
              "      <td>2,089.00</td>\n",
              "      <td>2,095.00</td>\n",
              "      <td>1,978.10</td>\n",
              "      <td>1,997.20</td>\n",
              "      <td>26.18M</td>\n",
              "    </tr>\n",
              "    <tr>\n",
              "      <th>2020-11-10</th>\n",
              "      <td>2,077.00</td>\n",
              "      <td>2,090.00</td>\n",
              "      <td>2,041.20</td>\n",
              "      <td>2,084.55</td>\n",
              "      <td>17.05M</td>\n",
              "    </tr>\n",
              "    <tr>\n",
              "      <th>2020-11-09</th>\n",
              "      <td>2,062.10</td>\n",
              "      <td>2,069.00</td>\n",
              "      <td>2,036.00</td>\n",
              "      <td>2,050.70</td>\n",
              "      <td>16.54M</td>\n",
              "    </tr>\n",
              "    <tr>\n",
              "      <th>2020-11-06</th>\n",
              "      <td>1,990.00</td>\n",
              "      <td>2,040.00</td>\n",
              "      <td>1,978.15</td>\n",
              "      <td>2,029.15</td>\n",
              "      <td>30.77M</td>\n",
              "    </tr>\n",
              "    <tr>\n",
              "      <th>2020-11-05</th>\n",
              "      <td>1,954.95</td>\n",
              "      <td>1,960.95</td>\n",
              "      <td>1,932.00</td>\n",
              "      <td>1,955.00</td>\n",
              "      <td>17.17M</td>\n",
              "    </tr>\n",
              "    <tr>\n",
              "      <th>2020-11-04</th>\n",
              "      <td>1,837.00</td>\n",
              "      <td>1,929.00</td>\n",
              "      <td>1,837.00</td>\n",
              "      <td>1,913.20</td>\n",
              "      <td>37.00M</td>\n",
              "    </tr>\n",
              "    <tr>\n",
              "      <th>2020-11-03</th>\n",
              "      <td>1,890.00</td>\n",
              "      <td>1,909.00</td>\n",
              "      <td>1,835.10</td>\n",
              "      <td>1,850.40</td>\n",
              "      <td>40.93M</td>\n",
              "    </tr>\n",
              "    <tr>\n",
              "      <th>2020-11-02</th>\n",
              "      <td>2,027.00</td>\n",
              "      <td>2,027.00</td>\n",
              "      <td>1,859.15</td>\n",
              "      <td>1,877.45</td>\n",
              "      <td>45.86M</td>\n",
              "    </tr>\n",
              "    <tr>\n",
              "      <th>2020-10-30</th>\n",
              "      <td>2,033.50</td>\n",
              "      <td>2,065.10</td>\n",
              "      <td>2,021.80</td>\n",
              "      <td>2,054.50</td>\n",
              "      <td>15.70M</td>\n",
              "    </tr>\n",
              "  </tbody>\n",
              "</table>\n",
              "</div>"
            ],
            "text/plain": [
              "                Open      High       Low     Close  Volume\n",
              "Date                                                      \n",
              "2020-11-12  1,984.90  2,007.35  1,970.05  1,987.35  12.35M\n",
              "2020-11-11  2,089.00  2,095.00  1,978.10  1,997.20  26.18M\n",
              "2020-11-10  2,077.00  2,090.00  2,041.20  2,084.55  17.05M\n",
              "2020-11-09  2,062.10  2,069.00  2,036.00  2,050.70  16.54M\n",
              "2020-11-06  1,990.00  2,040.00  1,978.15  2,029.15  30.77M\n",
              "2020-11-05  1,954.95  1,960.95  1,932.00  1,955.00  17.17M\n",
              "2020-11-04  1,837.00  1,929.00  1,837.00  1,913.20  37.00M\n",
              "2020-11-03  1,890.00  1,909.00  1,835.10  1,850.40  40.93M\n",
              "2020-11-02  2,027.00  2,027.00  1,859.15  1,877.45  45.86M\n",
              "2020-10-30  2,033.50  2,065.10  2,021.80  2,054.50  15.70M"
            ]
          },
          "metadata": {
            "tags": []
          },
          "execution_count": 85
        }
      ]
    },
    {
      "cell_type": "code",
      "metadata": {
        "id": "092HwaZ5mjQp",
        "colab": {
          "base_uri": "https://localhost:8080/"
        },
        "outputId": "44f89a4c-81fb-4df7-cf78-d8f9d91af9b3"
      },
      "source": [
        "dataset.info()"
      ],
      "execution_count": null,
      "outputs": [
        {
          "output_type": "stream",
          "text": [
            "<class 'pandas.core.frame.DataFrame'>\n",
            "DatetimeIndex: 1980 entries, 2020-11-12 to 2012-11-12\n",
            "Data columns (total 5 columns):\n",
            " #   Column  Non-Null Count  Dtype  \n",
            "---  ------  --------------  -----  \n",
            " 0   Open    1980 non-null   float64\n",
            " 1   High    1980 non-null   float64\n",
            " 2   Low     1980 non-null   float64\n",
            " 3   Close   1980 non-null   float64\n",
            " 4   Volume  1980 non-null   object \n",
            "dtypes: float64(4), object(1)\n",
            "memory usage: 92.8+ KB\n"
          ],
          "name": "stdout"
        }
      ]
    },
    {
      "cell_type": "code",
      "metadata": {
        "id": "4eqaMAn-pVZH"
      },
      "source": [
        "# Converting the numeric columns to numeric for easier access\n",
        "dataset['Open'] = pd.to_numeric(dataset['Open'])\n",
        "dataset['Close'] = pd.to_numeric(dataset['Close'])\n",
        "dataset['High'] = pd.to_numeric(dataset['High'])\n",
        "dataset['Low'] = pd.to_numeric(dataset['Low'])"
      ],
      "execution_count": null,
      "outputs": []
    },
    {
      "cell_type": "code",
      "metadata": {
        "id": "CrWPwfmHpzD5",
        "colab": {
          "base_uri": "https://localhost:8080/"
        },
        "outputId": "8dd4a478-6e21-4352-a5cd-28ea518e6a7e"
      },
      "source": [
        "dataset.info()"
      ],
      "execution_count": null,
      "outputs": [
        {
          "output_type": "stream",
          "text": [
            "<class 'pandas.core.frame.DataFrame'>\n",
            "DatetimeIndex: 1980 entries, 2020-11-12 to 2012-11-12\n",
            "Data columns (total 5 columns):\n",
            " #   Column  Non-Null Count  Dtype  \n",
            "---  ------  --------------  -----  \n",
            " 0   Open    1980 non-null   float64\n",
            " 1   High    1980 non-null   float64\n",
            " 2   Low     1980 non-null   float64\n",
            " 3   Close   1980 non-null   float64\n",
            " 4   Volume  1980 non-null   object \n",
            "dtypes: float64(4), object(1)\n",
            "memory usage: 92.8+ KB\n"
          ],
          "name": "stdout"
        }
      ]
    },
    {
      "cell_type": "code",
      "metadata": {
        "id": "JIH5z5xwzVJ8"
      },
      "source": [
        "# Stripping the irrelevant string characters to make data more meaningful\r\n",
        "dataset['Volume(in Millions)'] = dataset['Volume(in Millions)'].map(lambda x: x.rstrip('MkK'))"
      ],
      "execution_count": null,
      "outputs": []
    },
    {
      "cell_type": "code",
      "metadata": {
        "id": "d-Nj2drG6cgn",
        "colab": {
          "base_uri": "https://localhost:8080/",
          "height": 373
        },
        "outputId": "dfaf8665-6614-4ed5-fefe-959c6d7552f5"
      },
      "source": [
        "dataset.head(10)"
      ],
      "execution_count": null,
      "outputs": [
        {
          "output_type": "execute_result",
          "data": {
            "text/html": [
              "<div>\n",
              "<style scoped>\n",
              "    .dataframe tbody tr th:only-of-type {\n",
              "        vertical-align: middle;\n",
              "    }\n",
              "\n",
              "    .dataframe tbody tr th {\n",
              "        vertical-align: top;\n",
              "    }\n",
              "\n",
              "    .dataframe thead th {\n",
              "        text-align: right;\n",
              "    }\n",
              "</style>\n",
              "<table border=\"1\" class=\"dataframe\">\n",
              "  <thead>\n",
              "    <tr style=\"text-align: right;\">\n",
              "      <th></th>\n",
              "      <th>Open</th>\n",
              "      <th>High</th>\n",
              "      <th>Low</th>\n",
              "      <th>Close</th>\n",
              "      <th>Volume(in Millions)</th>\n",
              "    </tr>\n",
              "    <tr>\n",
              "      <th>Date</th>\n",
              "      <th></th>\n",
              "      <th></th>\n",
              "      <th></th>\n",
              "      <th></th>\n",
              "      <th></th>\n",
              "    </tr>\n",
              "  </thead>\n",
              "  <tbody>\n",
              "    <tr>\n",
              "      <th>2020-11-12</th>\n",
              "      <td>1984.90</td>\n",
              "      <td>2007.35</td>\n",
              "      <td>1970.05</td>\n",
              "      <td>1987.35</td>\n",
              "      <td>12.35</td>\n",
              "    </tr>\n",
              "    <tr>\n",
              "      <th>2020-11-11</th>\n",
              "      <td>2089.00</td>\n",
              "      <td>2095.00</td>\n",
              "      <td>1978.10</td>\n",
              "      <td>1997.20</td>\n",
              "      <td>26.18</td>\n",
              "    </tr>\n",
              "    <tr>\n",
              "      <th>2020-11-10</th>\n",
              "      <td>2077.00</td>\n",
              "      <td>2090.00</td>\n",
              "      <td>2041.20</td>\n",
              "      <td>2084.55</td>\n",
              "      <td>17.05</td>\n",
              "    </tr>\n",
              "    <tr>\n",
              "      <th>2020-11-09</th>\n",
              "      <td>2062.10</td>\n",
              "      <td>2069.00</td>\n",
              "      <td>2036.00</td>\n",
              "      <td>2050.70</td>\n",
              "      <td>16.54</td>\n",
              "    </tr>\n",
              "    <tr>\n",
              "      <th>2020-11-06</th>\n",
              "      <td>1990.00</td>\n",
              "      <td>2040.00</td>\n",
              "      <td>1978.15</td>\n",
              "      <td>2029.15</td>\n",
              "      <td>30.77</td>\n",
              "    </tr>\n",
              "    <tr>\n",
              "      <th>2020-11-05</th>\n",
              "      <td>1954.95</td>\n",
              "      <td>1960.95</td>\n",
              "      <td>1932.00</td>\n",
              "      <td>1955.00</td>\n",
              "      <td>17.17</td>\n",
              "    </tr>\n",
              "    <tr>\n",
              "      <th>2020-11-04</th>\n",
              "      <td>1837.00</td>\n",
              "      <td>1929.00</td>\n",
              "      <td>1837.00</td>\n",
              "      <td>1913.20</td>\n",
              "      <td>37.00</td>\n",
              "    </tr>\n",
              "    <tr>\n",
              "      <th>2020-11-03</th>\n",
              "      <td>1890.00</td>\n",
              "      <td>1909.00</td>\n",
              "      <td>1835.10</td>\n",
              "      <td>1850.40</td>\n",
              "      <td>40.93</td>\n",
              "    </tr>\n",
              "    <tr>\n",
              "      <th>2020-11-02</th>\n",
              "      <td>2027.00</td>\n",
              "      <td>2027.00</td>\n",
              "      <td>1859.15</td>\n",
              "      <td>1877.45</td>\n",
              "      <td>45.86</td>\n",
              "    </tr>\n",
              "    <tr>\n",
              "      <th>2020-10-30</th>\n",
              "      <td>2033.50</td>\n",
              "      <td>2065.10</td>\n",
              "      <td>2021.80</td>\n",
              "      <td>2054.50</td>\n",
              "      <td>15.70</td>\n",
              "    </tr>\n",
              "  </tbody>\n",
              "</table>\n",
              "</div>"
            ],
            "text/plain": [
              "               Open     High      Low    Close Volume(in Millions)\n",
              "Date                                                              \n",
              "2020-11-12  1984.90  2007.35  1970.05  1987.35               12.35\n",
              "2020-11-11  2089.00  2095.00  1978.10  1997.20               26.18\n",
              "2020-11-10  2077.00  2090.00  2041.20  2084.55               17.05\n",
              "2020-11-09  2062.10  2069.00  2036.00  2050.70               16.54\n",
              "2020-11-06  1990.00  2040.00  1978.15  2029.15               30.77\n",
              "2020-11-05  1954.95  1960.95  1932.00  1955.00               17.17\n",
              "2020-11-04  1837.00  1929.00  1837.00  1913.20               37.00\n",
              "2020-11-03  1890.00  1909.00  1835.10  1850.40               40.93\n",
              "2020-11-02  2027.00  2027.00  1859.15  1877.45               45.86\n",
              "2020-10-30  2033.50  2065.10  2021.80  2054.50               15.70"
            ]
          },
          "metadata": {
            "tags": []
          },
          "execution_count": 125
        }
      ]
    },
    {
      "cell_type": "code",
      "metadata": {
        "id": "NslxhwAe6i1W",
        "colab": {
          "base_uri": "https://localhost:8080/"
        },
        "outputId": "8b8fe1ad-4310-40d3-cd30-f921b6d5d7a8"
      },
      "source": [
        "dataset.info()"
      ],
      "execution_count": null,
      "outputs": [
        {
          "output_type": "stream",
          "text": [
            "<class 'pandas.core.frame.DataFrame'>\n",
            "DatetimeIndex: 1980 entries, 2020-11-12 to 2012-11-12\n",
            "Data columns (total 5 columns):\n",
            " #   Column               Non-Null Count  Dtype  \n",
            "---  ------               --------------  -----  \n",
            " 0   Open                 1980 non-null   float64\n",
            " 1   High                 1980 non-null   float64\n",
            " 2   Low                  1980 non-null   float64\n",
            " 3   Close                1980 non-null   float64\n",
            " 4   Volume(in Millions)  1980 non-null   object \n",
            "dtypes: float64(4), object(1)\n",
            "memory usage: 92.8+ KB\n"
          ],
          "name": "stdout"
        }
      ]
    },
    {
      "cell_type": "code",
      "metadata": {
        "id": "ZodoOKcm7Fae"
      },
      "source": [
        "dataset['Volume(in Millions)'] = pd.to_numeric(dataset['Volume(in Millions)'])"
      ],
      "execution_count": null,
      "outputs": []
    },
    {
      "cell_type": "code",
      "metadata": {
        "id": "fY-plRhv7Pue",
        "colab": {
          "base_uri": "https://localhost:8080/"
        },
        "outputId": "420dc5c1-3bdb-4ccf-8ab1-66d37f0f9460"
      },
      "source": [
        "dataset.info()"
      ],
      "execution_count": null,
      "outputs": [
        {
          "output_type": "stream",
          "text": [
            "<class 'pandas.core.frame.DataFrame'>\n",
            "DatetimeIndex: 1980 entries, 2020-11-12 to 2012-11-12\n",
            "Data columns (total 5 columns):\n",
            " #   Column               Non-Null Count  Dtype  \n",
            "---  ------               --------------  -----  \n",
            " 0   Open                 1980 non-null   float64\n",
            " 1   High                 1980 non-null   float64\n",
            " 2   Low                  1980 non-null   float64\n",
            " 3   Close                1980 non-null   float64\n",
            " 4   Volume(in Millions)  1980 non-null   float64\n",
            "dtypes: float64(5)\n",
            "memory usage: 92.8 KB\n"
          ],
          "name": "stdout"
        }
      ]
    },
    {
      "cell_type": "code",
      "metadata": {
        "id": "GCnt8zjs7oFX",
        "colab": {
          "base_uri": "https://localhost:8080/",
          "height": 373
        },
        "outputId": "1d510114-27f5-4934-dea7-9be50da852fe"
      },
      "source": [
        "dataset.head(10)"
      ],
      "execution_count": null,
      "outputs": [
        {
          "output_type": "execute_result",
          "data": {
            "text/html": [
              "<div>\n",
              "<style scoped>\n",
              "    .dataframe tbody tr th:only-of-type {\n",
              "        vertical-align: middle;\n",
              "    }\n",
              "\n",
              "    .dataframe tbody tr th {\n",
              "        vertical-align: top;\n",
              "    }\n",
              "\n",
              "    .dataframe thead th {\n",
              "        text-align: right;\n",
              "    }\n",
              "</style>\n",
              "<table border=\"1\" class=\"dataframe\">\n",
              "  <thead>\n",
              "    <tr style=\"text-align: right;\">\n",
              "      <th></th>\n",
              "      <th>Open</th>\n",
              "      <th>High</th>\n",
              "      <th>Low</th>\n",
              "      <th>Close</th>\n",
              "      <th>Volume(in Millions)</th>\n",
              "    </tr>\n",
              "    <tr>\n",
              "      <th>Date</th>\n",
              "      <th></th>\n",
              "      <th></th>\n",
              "      <th></th>\n",
              "      <th></th>\n",
              "      <th></th>\n",
              "    </tr>\n",
              "  </thead>\n",
              "  <tbody>\n",
              "    <tr>\n",
              "      <th>2020-11-12</th>\n",
              "      <td>1984.90</td>\n",
              "      <td>2007.35</td>\n",
              "      <td>1970.05</td>\n",
              "      <td>1987.35</td>\n",
              "      <td>12.35</td>\n",
              "    </tr>\n",
              "    <tr>\n",
              "      <th>2020-11-11</th>\n",
              "      <td>2089.00</td>\n",
              "      <td>2095.00</td>\n",
              "      <td>1978.10</td>\n",
              "      <td>1997.20</td>\n",
              "      <td>26.18</td>\n",
              "    </tr>\n",
              "    <tr>\n",
              "      <th>2020-11-10</th>\n",
              "      <td>2077.00</td>\n",
              "      <td>2090.00</td>\n",
              "      <td>2041.20</td>\n",
              "      <td>2084.55</td>\n",
              "      <td>17.05</td>\n",
              "    </tr>\n",
              "    <tr>\n",
              "      <th>2020-11-09</th>\n",
              "      <td>2062.10</td>\n",
              "      <td>2069.00</td>\n",
              "      <td>2036.00</td>\n",
              "      <td>2050.70</td>\n",
              "      <td>16.54</td>\n",
              "    </tr>\n",
              "    <tr>\n",
              "      <th>2020-11-06</th>\n",
              "      <td>1990.00</td>\n",
              "      <td>2040.00</td>\n",
              "      <td>1978.15</td>\n",
              "      <td>2029.15</td>\n",
              "      <td>30.77</td>\n",
              "    </tr>\n",
              "    <tr>\n",
              "      <th>2020-11-05</th>\n",
              "      <td>1954.95</td>\n",
              "      <td>1960.95</td>\n",
              "      <td>1932.00</td>\n",
              "      <td>1955.00</td>\n",
              "      <td>17.17</td>\n",
              "    </tr>\n",
              "    <tr>\n",
              "      <th>2020-11-04</th>\n",
              "      <td>1837.00</td>\n",
              "      <td>1929.00</td>\n",
              "      <td>1837.00</td>\n",
              "      <td>1913.20</td>\n",
              "      <td>37.00</td>\n",
              "    </tr>\n",
              "    <tr>\n",
              "      <th>2020-11-03</th>\n",
              "      <td>1890.00</td>\n",
              "      <td>1909.00</td>\n",
              "      <td>1835.10</td>\n",
              "      <td>1850.40</td>\n",
              "      <td>40.93</td>\n",
              "    </tr>\n",
              "    <tr>\n",
              "      <th>2020-11-02</th>\n",
              "      <td>2027.00</td>\n",
              "      <td>2027.00</td>\n",
              "      <td>1859.15</td>\n",
              "      <td>1877.45</td>\n",
              "      <td>45.86</td>\n",
              "    </tr>\n",
              "    <tr>\n",
              "      <th>2020-10-30</th>\n",
              "      <td>2033.50</td>\n",
              "      <td>2065.10</td>\n",
              "      <td>2021.80</td>\n",
              "      <td>2054.50</td>\n",
              "      <td>15.70</td>\n",
              "    </tr>\n",
              "  </tbody>\n",
              "</table>\n",
              "</div>"
            ],
            "text/plain": [
              "               Open     High      Low    Close  Volume(in Millions)\n",
              "Date                                                               \n",
              "2020-11-12  1984.90  2007.35  1970.05  1987.35                12.35\n",
              "2020-11-11  2089.00  2095.00  1978.10  1997.20                26.18\n",
              "2020-11-10  2077.00  2090.00  2041.20  2084.55                17.05\n",
              "2020-11-09  2062.10  2069.00  2036.00  2050.70                16.54\n",
              "2020-11-06  1990.00  2040.00  1978.15  2029.15                30.77\n",
              "2020-11-05  1954.95  1960.95  1932.00  1955.00                17.17\n",
              "2020-11-04  1837.00  1929.00  1837.00  1913.20                37.00\n",
              "2020-11-03  1890.00  1909.00  1835.10  1850.40                40.93\n",
              "2020-11-02  2027.00  2027.00  1859.15  1877.45                45.86\n",
              "2020-10-30  2033.50  2065.10  2021.80  2054.50                15.70"
            ]
          },
          "metadata": {
            "tags": []
          },
          "execution_count": 138
        }
      ]
    },
    {
      "cell_type": "code",
      "metadata": {
        "id": "zX_-6Jv874kb"
      },
      "source": [
        "# Sorting the data by means of Date\r\n",
        "dataset_final = dataset.sort_values(by=['Date'], ascending=True)"
      ],
      "execution_count": null,
      "outputs": []
    },
    {
      "cell_type": "code",
      "metadata": {
        "id": "ge89SSgO8XNm",
        "colab": {
          "base_uri": "https://localhost:8080/",
          "height": 373
        },
        "outputId": "ce6ed5e4-e9ea-42dd-b968-e472348664c2"
      },
      "source": [
        "dataset_final.head(10)"
      ],
      "execution_count": null,
      "outputs": [
        {
          "output_type": "execute_result",
          "data": {
            "text/html": [
              "<div>\n",
              "<style scoped>\n",
              "    .dataframe tbody tr th:only-of-type {\n",
              "        vertical-align: middle;\n",
              "    }\n",
              "\n",
              "    .dataframe tbody tr th {\n",
              "        vertical-align: top;\n",
              "    }\n",
              "\n",
              "    .dataframe thead th {\n",
              "        text-align: right;\n",
              "    }\n",
              "</style>\n",
              "<table border=\"1\" class=\"dataframe\">\n",
              "  <thead>\n",
              "    <tr style=\"text-align: right;\">\n",
              "      <th></th>\n",
              "      <th>Open</th>\n",
              "      <th>High</th>\n",
              "      <th>Low</th>\n",
              "      <th>Close</th>\n",
              "      <th>Volume(in Millions)</th>\n",
              "    </tr>\n",
              "    <tr>\n",
              "      <th>Date</th>\n",
              "      <th></th>\n",
              "      <th></th>\n",
              "      <th></th>\n",
              "      <th></th>\n",
              "      <th></th>\n",
              "    </tr>\n",
              "  </thead>\n",
              "  <tbody>\n",
              "    <tr>\n",
              "      <th>2012-11-12</th>\n",
              "      <td>389.24</td>\n",
              "      <td>390.99</td>\n",
              "      <td>385.84</td>\n",
              "      <td>389.63</td>\n",
              "      <td>5.84</td>\n",
              "    </tr>\n",
              "    <tr>\n",
              "      <th>2012-11-13</th>\n",
              "      <td>390.87</td>\n",
              "      <td>392.38</td>\n",
              "      <td>388.02</td>\n",
              "      <td>391.09</td>\n",
              "      <td>1.55</td>\n",
              "    </tr>\n",
              "    <tr>\n",
              "      <th>2012-11-15</th>\n",
              "      <td>390.72</td>\n",
              "      <td>390.72</td>\n",
              "      <td>384.88</td>\n",
              "      <td>388.62</td>\n",
              "      <td>7.04</td>\n",
              "    </tr>\n",
              "    <tr>\n",
              "      <th>2012-11-16</th>\n",
              "      <td>390.00</td>\n",
              "      <td>392.60</td>\n",
              "      <td>381.88</td>\n",
              "      <td>383.94</td>\n",
              "      <td>6.63</td>\n",
              "    </tr>\n",
              "    <tr>\n",
              "      <th>2012-11-19</th>\n",
              "      <td>383.99</td>\n",
              "      <td>385.47</td>\n",
              "      <td>377.10</td>\n",
              "      <td>383.51</td>\n",
              "      <td>9.56</td>\n",
              "    </tr>\n",
              "    <tr>\n",
              "      <th>2012-11-20</th>\n",
              "      <td>386.68</td>\n",
              "      <td>386.68</td>\n",
              "      <td>377.52</td>\n",
              "      <td>379.08</td>\n",
              "      <td>4.35</td>\n",
              "    </tr>\n",
              "    <tr>\n",
              "      <th>2012-11-21</th>\n",
              "      <td>379.65</td>\n",
              "      <td>383.32</td>\n",
              "      <td>376.98</td>\n",
              "      <td>381.98</td>\n",
              "      <td>3.97</td>\n",
              "    </tr>\n",
              "    <tr>\n",
              "      <th>2012-11-22</th>\n",
              "      <td>382.90</td>\n",
              "      <td>383.22</td>\n",
              "      <td>377.13</td>\n",
              "      <td>379.33</td>\n",
              "      <td>4.84</td>\n",
              "    </tr>\n",
              "    <tr>\n",
              "      <th>2012-11-23</th>\n",
              "      <td>379.40</td>\n",
              "      <td>384.26</td>\n",
              "      <td>379.40</td>\n",
              "      <td>383.24</td>\n",
              "      <td>3.45</td>\n",
              "    </tr>\n",
              "    <tr>\n",
              "      <th>2012-11-26</th>\n",
              "      <td>383.81</td>\n",
              "      <td>386.07</td>\n",
              "      <td>381.88</td>\n",
              "      <td>383.19</td>\n",
              "      <td>2.10</td>\n",
              "    </tr>\n",
              "  </tbody>\n",
              "</table>\n",
              "</div>"
            ],
            "text/plain": [
              "              Open    High     Low   Close  Volume(in Millions)\n",
              "Date                                                           \n",
              "2012-11-12  389.24  390.99  385.84  389.63                 5.84\n",
              "2012-11-13  390.87  392.38  388.02  391.09                 1.55\n",
              "2012-11-15  390.72  390.72  384.88  388.62                 7.04\n",
              "2012-11-16  390.00  392.60  381.88  383.94                 6.63\n",
              "2012-11-19  383.99  385.47  377.10  383.51                 9.56\n",
              "2012-11-20  386.68  386.68  377.52  379.08                 4.35\n",
              "2012-11-21  379.65  383.32  376.98  381.98                 3.97\n",
              "2012-11-22  382.90  383.22  377.13  379.33                 4.84\n",
              "2012-11-23  379.40  384.26  379.40  383.24                 3.45\n",
              "2012-11-26  383.81  386.07  381.88  383.19                 2.10"
            ]
          },
          "metadata": {
            "tags": []
          },
          "execution_count": 140
        }
      ]
    },
    {
      "cell_type": "code",
      "metadata": {
        "id": "tNquqrqR8aCm",
        "colab": {
          "base_uri": "https://localhost:8080/",
          "height": 621
        },
        "outputId": "ed8de429-ea81-46ec-bce6-91b97511f62b"
      },
      "source": [
        "# Visualizing the overall stock history of Reliance since the year 2012\n",
        "plt.figure(figsize=(16,10))\n",
        "plt.plot(dataset_final[\"Open\"])\n",
        "plt.plot(dataset_final[\"High\"])\n",
        "plt.plot(dataset_final[\"Low\"])\n",
        "plt.plot(dataset_final[\"Close\"])\n",
        "plt.title('Reliance Stock Price History')\n",
        "plt.ylabel('Price (INR)')\n",
        "plt.xlabel('Year(s)')\n",
        "plt.legend(['Open','High','Low','Close'], loc='upper left')\n",
        "plt.show()"
      ],
      "execution_count": null,
      "outputs": [
        {
          "output_type": "display_data",
          "data": {
            "image/png": "[encoded data removed]",
            "text/plain": [
              "<Figure size 1152x720 with 1 Axes>"
            ]
          },
          "metadata": {
            "tags": [],
            "needs_background": "light"
          }
        }
      ]
    },
    {
      "cell_type": "code",
      "metadata": {
        "id": "YtKKWr_08slx",
        "colab": {
          "base_uri": "https://localhost:8080/"
        },
        "outputId": "6a2b726e-5136-4a80-8efd-61b448ed3799"
      },
      "source": [
        "dataset_final.info()"
      ],
      "execution_count": null,
      "outputs": [
        {
          "output_type": "stream",
          "text": [
            "<class 'pandas.core.frame.DataFrame'>\n",
            "DatetimeIndex: 1980 entries, 2012-11-12 to 2020-11-12\n",
            "Data columns (total 5 columns):\n",
            " #   Column               Non-Null Count  Dtype  \n",
            "---  ------               --------------  -----  \n",
            " 0   Open                 1980 non-null   float64\n",
            " 1   High                 1980 non-null   float64\n",
            " 2   Low                  1980 non-null   float64\n",
            " 3   Close                1980 non-null   float64\n",
            " 4   Volume(in Millions)  1980 non-null   float64\n",
            "dtypes: float64(5)\n",
            "memory usage: 92.8 KB\n"
          ],
          "name": "stdout"
        }
      ]
    },
    {
      "cell_type": "code",
      "metadata": {
        "id": "VLx5EAK2830F",
        "colab": {
          "base_uri": "https://localhost:8080/",
          "height": 373
        },
        "outputId": "2ef5b591-0fee-4731-e50a-ea531cda417c"
      },
      "source": [
        "# Here we find the rolling average(mean) of the first 7 days and then use it to aplly it to the rest of the data\n",
        "dataset_final.rolling(7).mean().head(10)"
      ],
      "execution_count": null,
      "outputs": [
        {
          "output_type": "execute_result",
          "data": {
            "text/html": [
              "<div>\n",
              "<style scoped>\n",
              "    .dataframe tbody tr th:only-of-type {\n",
              "        vertical-align: middle;\n",
              "    }\n",
              "\n",
              "    .dataframe tbody tr th {\n",
              "        vertical-align: top;\n",
              "    }\n",
              "\n",
              "    .dataframe thead th {\n",
              "        text-align: right;\n",
              "    }\n",
              "</style>\n",
              "<table border=\"1\" class=\"dataframe\">\n",
              "  <thead>\n",
              "    <tr style=\"text-align: right;\">\n",
              "      <th></th>\n",
              "      <th>Open</th>\n",
              "      <th>High</th>\n",
              "      <th>Low</th>\n",
              "      <th>Close</th>\n",
              "      <th>Volume(in Millions)</th>\n",
              "    </tr>\n",
              "    <tr>\n",
              "      <th>Date</th>\n",
              "      <th></th>\n",
              "      <th></th>\n",
              "      <th></th>\n",
              "      <th></th>\n",
              "      <th></th>\n",
              "    </tr>\n",
              "  </thead>\n",
              "  <tbody>\n",
              "    <tr>\n",
              "      <th>2012-11-12</th>\n",
              "      <td>NaN</td>\n",
              "      <td>NaN</td>\n",
              "      <td>NaN</td>\n",
              "      <td>NaN</td>\n",
              "      <td>NaN</td>\n",
              "    </tr>\n",
              "    <tr>\n",
              "      <th>2012-11-13</th>\n",
              "      <td>NaN</td>\n",
              "      <td>NaN</td>\n",
              "      <td>NaN</td>\n",
              "      <td>NaN</td>\n",
              "      <td>NaN</td>\n",
              "    </tr>\n",
              "    <tr>\n",
              "      <th>2012-11-15</th>\n",
              "      <td>NaN</td>\n",
              "      <td>NaN</td>\n",
              "      <td>NaN</td>\n",
              "      <td>NaN</td>\n",
              "      <td>NaN</td>\n",
              "    </tr>\n",
              "    <tr>\n",
              "      <th>2012-11-16</th>\n",
              "      <td>NaN</td>\n",
              "      <td>NaN</td>\n",
              "      <td>NaN</td>\n",
              "      <td>NaN</td>\n",
              "      <td>NaN</td>\n",
              "    </tr>\n",
              "    <tr>\n",
              "      <th>2012-11-19</th>\n",
              "      <td>NaN</td>\n",
              "      <td>NaN</td>\n",
              "      <td>NaN</td>\n",
              "      <td>NaN</td>\n",
              "      <td>NaN</td>\n",
              "    </tr>\n",
              "    <tr>\n",
              "      <th>2012-11-20</th>\n",
              "      <td>NaN</td>\n",
              "      <td>NaN</td>\n",
              "      <td>NaN</td>\n",
              "      <td>NaN</td>\n",
              "      <td>NaN</td>\n",
              "    </tr>\n",
              "    <tr>\n",
              "      <th>2012-11-21</th>\n",
              "      <td>387.307143</td>\n",
              "      <td>388.880000</td>\n",
              "      <td>381.745714</td>\n",
              "      <td>385.407143</td>\n",
              "      <td>5.562857</td>\n",
              "    </tr>\n",
              "    <tr>\n",
              "      <th>2012-11-22</th>\n",
              "      <td>386.401429</td>\n",
              "      <td>387.770000</td>\n",
              "      <td>380.501429</td>\n",
              "      <td>383.935714</td>\n",
              "      <td>5.420000</td>\n",
              "    </tr>\n",
              "    <tr>\n",
              "      <th>2012-11-23</th>\n",
              "      <td>384.762857</td>\n",
              "      <td>386.610000</td>\n",
              "      <td>379.270000</td>\n",
              "      <td>382.814286</td>\n",
              "      <td>5.691429</td>\n",
              "    </tr>\n",
              "    <tr>\n",
              "      <th>2012-11-26</th>\n",
              "      <td>383.775714</td>\n",
              "      <td>385.945714</td>\n",
              "      <td>378.841429</td>\n",
              "      <td>382.038571</td>\n",
              "      <td>4.985714</td>\n",
              "    </tr>\n",
              "  </tbody>\n",
              "</table>\n",
              "</div>"
            ],
            "text/plain": [
              "                  Open        High         Low       Close  Volume(in Millions)\n",
              "Date                                                                           \n",
              "2012-11-12         NaN         NaN         NaN         NaN                  NaN\n",
              "2012-11-13         NaN         NaN         NaN         NaN                  NaN\n",
              "2012-11-15         NaN         NaN         NaN         NaN                  NaN\n",
              "2012-11-16         NaN         NaN         NaN         NaN                  NaN\n",
              "2012-11-19         NaN         NaN         NaN         NaN                  NaN\n",
              "2012-11-20         NaN         NaN         NaN         NaN                  NaN\n",
              "2012-11-21  387.307143  388.880000  381.745714  385.407143             5.562857\n",
              "2012-11-22  386.401429  387.770000  380.501429  383.935714             5.420000\n",
              "2012-11-23  384.762857  386.610000  379.270000  382.814286             5.691429\n",
              "2012-11-26  383.775714  385.945714  378.841429  382.038571             4.985714"
            ]
          },
          "metadata": {
            "tags": []
          },
          "execution_count": 143
        }
      ]
    },
    {
      "cell_type": "code",
      "metadata": {
        "id": "TOyA5R5Q9cdR",
        "colab": {
          "base_uri": "https://localhost:8080/",
          "height": 384
        },
        "outputId": "e5bb3af4-72bc-479e-aceb-67955423baa9"
      },
      "source": [
        "# Visualzing the new dataset after initializing the rolling mean in each case\r\n",
        "dataset_final['Open'].plot(figsize=(16,6))"
      ],
      "execution_count": null,
      "outputs": [
        {
          "output_type": "execute_result",
          "data": {
            "text/plain": [
              "<matplotlib.axes._subplots.AxesSubplot at 0x7fef15010630>"
            ]
          },
          "metadata": {
            "tags": []
          },
          "execution_count": 158
        },
        {
          "output_type": "display_data",
          "data": {
            "image/png": "[encoded data removed]",
            "text/plain": [
              "<Figure size 1152x432 with 1 Axes>"
            ]
          },
          "metadata": {
            "tags": [],
            "needs_background": "light"
          }
        }
      ]
    },
    {
      "cell_type": "code",
      "metadata": {
        "id": "mb5gTImJ-Ggw",
        "colab": {
          "base_uri": "https://localhost:8080/",
          "height": 384
        },
        "outputId": "4962a136-d302-4e49-8ca7-c296f309c259"
      },
      "source": [
        "# Visualizing the stock in terms of opening and closing stock price and simulataneously comparing them \n",
        "dataset_final['Open'].plot(figsize=(16,6))\n",
        "dataset.rolling(window =45).mean()['Close'].plot()\n",
        "plt.legend(['Open', 'Close'], loc='upper left')"
      ],
      "execution_count": null,
      "outputs": [
        {
          "output_type": "execute_result",
          "data": {
            "text/plain": [
              "<matplotlib.legend.Legend at 0x7fef14fdeb38>"
            ]
          },
          "metadata": {
            "tags": []
          },
          "execution_count": 159
        },
        {
          "output_type": "display_data",
          "data": {
            "image/png": "[encoded data removed]",
            "text/plain": [
              "<Figure size 1152x432 with 1 Axes>"
            ]
          },
          "metadata": {
            "tags": [],
            "needs_background": "light"
          }
        }
      ]
    },
    {
      "cell_type": "code",
      "metadata": {
        "id": "jHavouhB-hGM",
        "colab": {
          "base_uri": "https://localhost:8080/",
          "height": 384
        },
        "outputId": "b04b7b21-1d71-4283-a081-409ce8fac8b5"
      },
      "source": [
        "# We then find out the 45 day mean( 1 observation recorded fr 45 days and plotting) which will later be used to make our data smoother\n",
        "dataset_final['Close: 45 Day Mean'] = dataset_final['Close'].rolling(window=45).mean()\n",
        "dataset_final[['Close', 'Close: 45 Day Mean']].plot(figsize=(16,6))"
      ],
      "execution_count": null,
      "outputs": [
        {
          "output_type": "execute_result",
          "data": {
            "text/plain": [
              "<matplotlib.axes._subplots.AxesSubplot at 0x7fef14f5bf60>"
            ]
          },
          "metadata": {
            "tags": []
          },
          "execution_count": 160
        },
        {
          "output_type": "display_data",
          "data": {
            "image/png": "[encoded data removed]",
            "text/plain": [
              "<Figure size 1152x432 with 1 Axes>"
            ]
          },
          "metadata": {
            "tags": [],
            "needs_background": "light"
          }
        }
      ]
    },
    {
      "cell_type": "code",
      "metadata": {
        "id": "wi--NySb_6yC",
        "colab": {
          "base_uri": "https://localhost:8080/",
          "height": 482
        },
        "outputId": "626cb186-864f-4bde-a68f-3db5238cab58"
      },
      "source": [
        "#If we consider the 45 day window  and only one observation(min_periods=1) is considered in that period, the graph seems more smooth\n",
        "dataset_final[['Close','Close: 45 Day Mean']].expanding(min_periods=1,).mean().plot(figsize=(16,8))"
      ],
      "execution_count": null,
      "outputs": [
        {
          "output_type": "execute_result",
          "data": {
            "text/plain": [
              "<matplotlib.axes._subplots.AxesSubplot at 0x7fef14cf36d8>"
            ]
          },
          "metadata": {
            "tags": []
          },
          "execution_count": 168
        },
        {
          "output_type": "display_data",
          "data": {
            "image/png": "[encoded data removed]",
            "text/plain": [
              "<Figure size 1152x576 with 1 Axes>"
            ]
          },
          "metadata": {
            "tags": [],
            "needs_background": "light"
          }
        }
      ]
    },
    {
      "cell_type": "code",
      "metadata": {
        "id": "S3ZxHvLdAkej"
      },
      "source": [
        "train_data = dataset_final['Open']\n",
        "train_data = pd.DataFrame(train_data)"
      ],
      "execution_count": null,
      "outputs": []
    },
    {
      "cell_type": "code",
      "metadata": {
        "id": "Uroh4TPOCUWM",
        "colab": {
          "base_uri": "https://localhost:8080/"
        },
        "outputId": "9cad9bb1-6c7a-4d1a-cdc4-d44445dae3d6"
      },
      "source": [
        "dataset_final.isna().any()"
      ],
      "execution_count": null,
      "outputs": [
        {
          "output_type": "execute_result",
          "data": {
            "text/plain": [
              "Open                   False\n",
              "High                   False\n",
              "Low                    False\n",
              "Close                  False\n",
              "Volume(in Millions)    False\n",
              "Close: 45 Day Mean      True\n",
              "dtype: bool"
            ]
          },
          "metadata": {
            "tags": []
          },
          "execution_count": 173
        }
      ]
    },
    {
      "cell_type": "code",
      "metadata": {
        "id": "VbOUdeYPCe7k"
      },
      "source": [
        "#Applying feature Scaling using MinMaxSclaer\n",
        "from sklearn.preprocessing import MinMaxScaler\n",
        "sc = MinMaxScaler(feature_range = (0,1))\n",
        "train_data_scaled = sc.fit_transform(train_data) "
      ],
      "execution_count": null,
      "outputs": []
    },
    {
      "cell_type": "code",
      "metadata": {
        "id": "glTHKu4nG5Gu"
      },
      "source": [
        "# It is an RNN and for this, we make use of timstamp functionality which ensures that the values collated are revalidated during back propagation and updated\n",
        "#Creating a dataset with 50 timesteps and  1 expected ouput\n",
        "X_train= []\n",
        "y_train= []\n",
        "\n",
        "for i in range(50,1980):\n",
        "  X_train.append(train_data_scaled[i-50:i, 0])\n",
        "  y_train.append(train_data_scaled[i, 0])\n",
        "X_train, y_train = np.array(X_train), np.array(y_train)\n",
        "\n",
        "#Reshaping the train data\n",
        "X_train = np.reshape(X_train, (X_train.shape[0],X_train.shape[1], 1 ))\n"
      ],
      "execution_count": null,
      "outputs": []
    },
    {
      "cell_type": "code",
      "metadata": {
        "id": "LgWN40kPJmlz"
      },
      "source": [
        "#Building the Recuurent Neural network (RNN)\n",
        "\n",
        "#Using keras library and importing the rrequired packages\n",
        "from keras.models import Sequential\n",
        "from keras.layers import LSTM\n",
        "from keras.layers import Dense\n",
        "from keras.layers import Dropout"
      ],
      "execution_count": null,
      "outputs": []
    },
    {
      "cell_type": "code",
      "metadata": {
        "id": "ds5S5u7PKPs5"
      },
      "source": [
        "# Initialising the RNN\n",
        "regressor = Sequential()\n"
      ],
      "execution_count": null,
      "outputs": []
    },
    {
      "cell_type": "code",
      "metadata": {
        "id": "1QugLsJ8K649"
      },
      "source": [
        "# Adding the first LSTM layer and some Dropout regularisation\n",
        "regressor.add(LSTM(units = 50, return_sequences = True, input_shape = (X_train.shape[1], 1)))\n",
        "regressor.add(Dropout(0.2))\n",
        "\n",
        "# Adding a second LSTM layer and some Dropout regularisation\n",
        "regressor.add(LSTM(units = 50, return_sequences = True))\n",
        "regressor.add(Dropout(0.2))\n",
        "\n",
        "# Adding a third LSTM layer and some Dropout regularisation\n",
        "regressor.add(LSTM(units = 50, return_sequences = True))\n",
        "regressor.add(Dropout(0.2))\n",
        "\n",
        "# Adding a fourth LSTM layer and some Dropout regularisation\n",
        "regressor.add(LSTM(units = 50))\n",
        "regressor.add(Dropout(0.2))\n",
        "\n",
        "# Adding the output layer\n",
        "regressor.add(Dense(units = 1))\n"
      ],
      "execution_count": null,
      "outputs": []
    },
    {
      "cell_type": "code",
      "metadata": {
        "id": "SB-6FTHnMBok",
        "colab": {
          "base_uri": "https://localhost:8080/"
        },
        "outputId": "140be516-7b4a-41f6-8965-1edab340c7a5"
      },
      "source": [
        "# Compiling the RNN\n",
        "regressor.compile(optimizer = 'adam', loss = 'mean_squared_error')\n",
        "\n",
        "# Fitting the RNN to the Training set\n",
        "regressor.fit(X_train, y_train, epochs = 100, batch_size = 32)\n"
      ],
      "execution_count": null,
      "outputs": [
        {
          "output_type": "stream",
          "text": [
            "Epoch 1/100\n",
            "61/61 [==============================] - 6s 102ms/step - loss: 0.0016\n",
            "Epoch 2/100\n",
            "61/61 [==============================] - 7s 116ms/step - loss: 0.0014\n",
            "Epoch 3/100\n",
            "61/61 [==============================] - 6s 105ms/step - loss: 0.0013\n",
            "Epoch 4/100\n",
            "61/61 [==============================] - 6s 106ms/step - loss: 0.0012\n",
            "Epoch 5/100\n",
            "61/61 [==============================] - 6s 103ms/step - loss: 0.0014\n",
            "Epoch 6/100\n",
            "61/61 [==============================] - 6s 103ms/step - loss: 0.0015\n",
            "Epoch 7/100\n",
            "61/61 [==============================] - 6s 104ms/step - loss: 0.0014\n",
            "Epoch 8/100\n",
            "61/61 [==============================] - 6s 104ms/step - loss: 0.0012\n",
            "Epoch 9/100\n",
            "61/61 [==============================] - 6s 101ms/step - loss: 0.0012\n",
            "Epoch 10/100\n",
            "61/61 [==============================] - 6s 102ms/step - loss: 0.0011\n",
            "Epoch 11/100\n",
            "61/61 [==============================] - 6s 99ms/step - loss: 0.0012\n",
            "Epoch 12/100\n",
            "61/61 [==============================] - 6s 102ms/step - loss: 0.0012\n",
            "Epoch 13/100\n",
            "61/61 [==============================] - 6s 100ms/step - loss: 0.0014\n",
            "Epoch 14/100\n",
            "61/61 [==============================] - 6s 103ms/step - loss: 0.0012\n",
            "Epoch 15/100\n",
            "61/61 [==============================] - 6s 100ms/step - loss: 9.9429e-04\n",
            "Epoch 16/100\n",
            "61/61 [==============================] - 6s 100ms/step - loss: 0.0010\n",
            "Epoch 17/100\n",
            "61/61 [==============================] - 6s 104ms/step - loss: 0.0011\n",
            "Epoch 18/100\n",
            "61/61 [==============================] - 6s 103ms/step - loss: 9.5883e-04\n",
            "Epoch 19/100\n",
            "61/61 [==============================] - 6s 97ms/step - loss: 9.1498e-04\n",
            "Epoch 20/100\n",
            "61/61 [==============================] - 6s 105ms/step - loss: 9.9324e-04\n",
            "Epoch 21/100\n",
            "61/61 [==============================] - 6s 103ms/step - loss: 9.2483e-04\n",
            "Epoch 22/100\n",
            "61/61 [==============================] - 6s 104ms/step - loss: 9.3599e-04\n",
            "Epoch 23/100\n",
            "61/61 [==============================] - 6s 103ms/step - loss: 8.8285e-04\n",
            "Epoch 24/100\n",
            "61/61 [==============================] - 6s 104ms/step - loss: 0.0010\n",
            "Epoch 25/100\n",
            "61/61 [==============================] - 6s 101ms/step - loss: 0.0012\n",
            "Epoch 26/100\n",
            "61/61 [==============================] - 6s 98ms/step - loss: 8.9939e-04\n",
            "Epoch 27/100\n",
            "61/61 [==============================] - 6s 103ms/step - loss: 9.3221e-04\n",
            "Epoch 28/100\n",
            "61/61 [==============================] - 6s 105ms/step - loss: 8.5220e-04\n",
            "Epoch 29/100\n",
            "61/61 [==============================] - 6s 105ms/step - loss: 8.8036e-04\n",
            "Epoch 30/100\n",
            "61/61 [==============================] - 6s 104ms/step - loss: 8.3056e-04\n",
            "Epoch 31/100\n",
            "61/61 [==============================] - 7s 107ms/step - loss: 8.8767e-04\n",
            "Epoch 32/100\n",
            "61/61 [==============================] - 6s 97ms/step - loss: 8.7110e-04\n",
            "Epoch 33/100\n",
            "61/61 [==============================] - 6s 105ms/step - loss: 8.7581e-04\n",
            "Epoch 34/100\n",
            "61/61 [==============================] - 6s 106ms/step - loss: 8.8937e-04\n",
            "Epoch 35/100\n",
            "61/61 [==============================] - 6s 102ms/step - loss: 8.4963e-04\n",
            "Epoch 36/100\n",
            "61/61 [==============================] - 6s 98ms/step - loss: 8.3055e-04\n",
            "Epoch 37/100\n",
            "61/61 [==============================] - 7s 107ms/step - loss: 7.7092e-04\n",
            "Epoch 38/100\n",
            "61/61 [==============================] - 6s 106ms/step - loss: 7.9541e-04\n",
            "Epoch 39/100\n",
            "61/61 [==============================] - 6s 105ms/step - loss: 7.7091e-04\n",
            "Epoch 40/100\n",
            "61/61 [==============================] - 6s 104ms/step - loss: 9.2813e-04\n",
            "Epoch 41/100\n",
            "61/61 [==============================] - 6s 105ms/step - loss: 8.3442e-04\n",
            "Epoch 42/100\n",
            "61/61 [==============================] - 6s 105ms/step - loss: 7.8103e-04\n",
            "Epoch 43/100\n",
            "61/61 [==============================] - 6s 99ms/step - loss: 7.5528e-04\n",
            "Epoch 44/100\n",
            "61/61 [==============================] - 6s 105ms/step - loss: 7.9053e-04\n",
            "Epoch 45/100\n",
            "61/61 [==============================] - 6s 105ms/step - loss: 8.2582e-04\n",
            "Epoch 46/100\n",
            "61/61 [==============================] - 6s 104ms/step - loss: 9.5809e-04\n",
            "Epoch 47/100\n",
            "61/61 [==============================] - 6s 103ms/step - loss: 8.1626e-04\n",
            "Epoch 48/100\n",
            "61/61 [==============================] - 6s 98ms/step - loss: 8.5764e-04\n",
            "Epoch 49/100\n",
            "61/61 [==============================] - 6s 99ms/step - loss: 7.1833e-04\n",
            "Epoch 50/100\n",
            "61/61 [==============================] - 6s 99ms/step - loss: 7.7433e-04\n",
            "Epoch 51/100\n",
            "61/61 [==============================] - 6s 102ms/step - loss: 7.2315e-04\n",
            "Epoch 52/100\n",
            "61/61 [==============================] - 6s 100ms/step - loss: 0.0011\n",
            "Epoch 53/100\n",
            "61/61 [==============================] - 6s 102ms/step - loss: 7.9399e-04\n",
            "Epoch 54/100\n",
            "61/61 [==============================] - 6s 100ms/step - loss: 7.4060e-04\n",
            "Epoch 55/100\n",
            "61/61 [==============================] - 6s 94ms/step - loss: 6.9906e-04\n",
            "Epoch 56/100\n",
            "61/61 [==============================] - 6s 101ms/step - loss: 7.4730e-04\n",
            "Epoch 57/100\n",
            "61/61 [==============================] - 6s 97ms/step - loss: 7.6706e-04\n",
            "Epoch 58/100\n",
            "61/61 [==============================] - 6s 95ms/step - loss: 8.6552e-04\n",
            "Epoch 59/100\n",
            "61/61 [==============================] - 6s 97ms/step - loss: 8.1980e-04\n",
            "Epoch 60/100\n",
            "61/61 [==============================] - 6s 93ms/step - loss: 7.8886e-04\n",
            "Epoch 61/100\n",
            "61/61 [==============================] - 6s 95ms/step - loss: 8.9298e-04\n",
            "Epoch 62/100\n",
            "61/61 [==============================] - 6s 96ms/step - loss: 8.1669e-04\n",
            "Epoch 63/100\n",
            "61/61 [==============================] - 6s 99ms/step - loss: 6.9323e-04\n",
            "Epoch 64/100\n",
            "61/61 [==============================] - 6s 96ms/step - loss: 8.1140e-04\n",
            "Epoch 65/100\n",
            "61/61 [==============================] - 6s 97ms/step - loss: 7.3960e-04\n",
            "Epoch 66/100\n",
            "61/61 [==============================] - 6s 94ms/step - loss: 6.9897e-04\n",
            "Epoch 67/100\n",
            "61/61 [==============================] - 6s 103ms/step - loss: 7.4295e-04\n",
            "Epoch 68/100\n",
            "61/61 [==============================] - 6s 99ms/step - loss: 6.9618e-04\n",
            "Epoch 69/100\n",
            "61/61 [==============================] - 6s 103ms/step - loss: 6.1257e-04\n",
            "Epoch 70/100\n",
            "61/61 [==============================] - 6s 101ms/step - loss: 6.8614e-04\n",
            "Epoch 71/100\n",
            "61/61 [==============================] - 6s 101ms/step - loss: 7.3116e-04\n",
            "Epoch 72/100\n",
            "61/61 [==============================] - 6s 94ms/step - loss: 8.7445e-04\n",
            "Epoch 73/100\n",
            "61/61 [==============================] - 6s 103ms/step - loss: 8.3291e-04\n",
            "Epoch 74/100\n",
            "61/61 [==============================] - 6s 105ms/step - loss: 7.4493e-04\n",
            "Epoch 75/100\n",
            "61/61 [==============================] - 7s 108ms/step - loss: 6.6463e-04\n",
            "Epoch 76/100\n",
            "61/61 [==============================] - 6s 100ms/step - loss: 7.1917e-04\n",
            "Epoch 77/100\n",
            "61/61 [==============================] - 9s 150ms/step - loss: 6.7234e-04\n",
            "Epoch 78/100\n",
            "61/61 [==============================] - 7s 121ms/step - loss: 7.8601e-04\n",
            "Epoch 79/100\n",
            "61/61 [==============================] - 6s 103ms/step - loss: 5.7819e-04\n",
            "Epoch 80/100\n",
            "61/61 [==============================] - 7s 107ms/step - loss: 6.9909e-04\n",
            "Epoch 81/100\n",
            "61/61 [==============================] - 6s 106ms/step - loss: 7.0152e-04\n",
            "Epoch 82/100\n",
            "61/61 [==============================] - 6s 98ms/step - loss: 8.2400e-04\n",
            "Epoch 83/100\n",
            "61/61 [==============================] - 6s 96ms/step - loss: 7.5106e-04\n",
            "Epoch 84/100\n",
            "61/61 [==============================] - 6s 97ms/step - loss: 8.0331e-04\n",
            "Epoch 85/100\n",
            "61/61 [==============================] - 6s 99ms/step - loss: 6.4362e-04\n",
            "Epoch 86/100\n",
            "61/61 [==============================] - 6s 100ms/step - loss: 7.0029e-04\n",
            "Epoch 87/100\n",
            "61/61 [==============================] - 6s 102ms/step - loss: 6.8130e-04\n",
            "Epoch 88/100\n",
            "61/61 [==============================] - 7s 109ms/step - loss: 6.8663e-04\n",
            "Epoch 89/100\n",
            "61/61 [==============================] - 6s 105ms/step - loss: 7.0945e-04\n",
            "Epoch 90/100\n",
            "61/61 [==============================] - 6s 105ms/step - loss: 7.8820e-04\n",
            "Epoch 91/100\n",
            "61/61 [==============================] - 6s 103ms/step - loss: 6.6040e-04\n",
            "Epoch 92/100\n",
            "61/61 [==============================] - 6s 105ms/step - loss: 6.7346e-04\n",
            "Epoch 93/100\n",
            "61/61 [==============================] - 6s 104ms/step - loss: 6.6617e-04\n",
            "Epoch 94/100\n",
            "61/61 [==============================] - 7s 107ms/step - loss: 5.9571e-04\n",
            "Epoch 95/100\n",
            "61/61 [==============================] - 6s 97ms/step - loss: 7.5641e-04\n",
            "Epoch 96/100\n",
            "61/61 [==============================] - 7s 107ms/step - loss: 7.0368e-04\n",
            "Epoch 97/100\n",
            "61/61 [==============================] - 6s 104ms/step - loss: 6.3624e-04\n",
            "Epoch 98/100\n",
            "61/61 [==============================] - 6s 105ms/step - loss: 5.9911e-04\n",
            "Epoch 99/100\n",
            "61/61 [==============================] - 6s 105ms/step - loss: 6.3615e-04\n",
            "Epoch 100/100\n",
            "61/61 [==============================] - 6s 102ms/step - loss: 7.0165e-04\n"
          ],
          "name": "stdout"
        },
        {
          "output_type": "execute_result",
          "data": {
            "text/plain": [
              "<tensorflow.python.keras.callbacks.History at 0x7fef16498630>"
            ]
          },
          "metadata": {
            "tags": []
          },
          "execution_count": 189
        }
      ]
    },
    {
      "cell_type": "code",
      "metadata": {
        "id": "1YYEpAvWNCI3"
      },
      "source": [
        "#Making the predictions and visualising the results\n",
        "\n",
        "# Getting the real stock prices\n",
        "dataset_test = pd.read_csv(r'Reliance_TestSet_2.csv',index_col=\"Date\",parse_dates=True)\n",
        "dataset_test = dataset_test.sort_values(by=['Date'], ascending=True)\n"
      ],
      "execution_count": null,
      "outputs": []
    },
    {
      "cell_type": "code",
      "metadata": {
        "id": "mZQqHTreUeQu",
        "colab": {
          "base_uri": "https://localhost:8080/"
        },
        "outputId": "b8fa9a5f-8adb-436b-ef31-02eea237f890"
      },
      "source": [
        "# Printing the real stock prices \n",
        "real_stock_price = dataset_test.iloc[:, 3:4].values\n",
        "print(real_stock_price)"
      ],
      "execution_count": null,
      "outputs": [
        {
          "output_type": "stream",
          "text": [
            "[[2237.050049]\n",
            " [2280.699951]\n",
            " [2287.5     ]\n",
            " [2206.5     ]\n",
            " [2175.800049]\n",
            " [2176.199951]\n",
            " [2155.899902]\n",
            " [2124.600098]\n",
            " [2106.949951]\n",
            " [2113.050049]\n",
            " [2029.099976]\n",
            " [2034.5     ]\n",
            " [2011.449951]\n",
            " [2026.900024]\n",
            " [2054.5     ]\n",
            " [1877.449951]\n",
            " [1850.400024]\n",
            " [1913.199951]\n",
            " [1955.      ]\n",
            " [2029.150024]\n",
            " [2050.699951]\n",
            " [2084.550049]\n",
            " [1997.199951]]\n"
          ],
          "name": "stdout"
        }
      ]
    },
    {
      "cell_type": "code",
      "metadata": {
        "id": "HvjnEj8VVXF8",
        "colab": {
          "base_uri": "https://localhost:8080/",
          "height": 373
        },
        "outputId": "19f5947d-7345-4193-8701-a0c45d963730"
      },
      "source": [
        "dataset_test.head(10)"
      ],
      "execution_count": null,
      "outputs": [
        {
          "output_type": "execute_result",
          "data": {
            "text/html": [
              "<div>\n",
              "<style scoped>\n",
              "    .dataframe tbody tr th:only-of-type {\n",
              "        vertical-align: middle;\n",
              "    }\n",
              "\n",
              "    .dataframe tbody tr th {\n",
              "        vertical-align: top;\n",
              "    }\n",
              "\n",
              "    .dataframe thead th {\n",
              "        text-align: right;\n",
              "    }\n",
              "</style>\n",
              "<table border=\"1\" class=\"dataframe\">\n",
              "  <thead>\n",
              "    <tr style=\"text-align: right;\">\n",
              "      <th></th>\n",
              "      <th>Open</th>\n",
              "      <th>High</th>\n",
              "      <th>Low</th>\n",
              "      <th>Close</th>\n",
              "      <th>Volume</th>\n",
              "    </tr>\n",
              "    <tr>\n",
              "      <th>Date</th>\n",
              "      <th></th>\n",
              "      <th></th>\n",
              "      <th></th>\n",
              "      <th></th>\n",
              "      <th></th>\n",
              "    </tr>\n",
              "  </thead>\n",
              "  <tbody>\n",
              "    <tr>\n",
              "      <th>2020-10-12</th>\n",
              "      <td>2235.000000</td>\n",
              "      <td>2255.750000</td>\n",
              "      <td>2226.250000</td>\n",
              "      <td>2237.050049</td>\n",
              "      <td>6565515</td>\n",
              "    </tr>\n",
              "    <tr>\n",
              "      <th>2020-10-13</th>\n",
              "      <td>2230.600098</td>\n",
              "      <td>2285.750000</td>\n",
              "      <td>2225.850098</td>\n",
              "      <td>2280.699951</td>\n",
              "      <td>10666190</td>\n",
              "    </tr>\n",
              "    <tr>\n",
              "      <th>2020-10-14</th>\n",
              "      <td>2278.899902</td>\n",
              "      <td>2304.000000</td>\n",
              "      <td>2268.500000</td>\n",
              "      <td>2287.500000</td>\n",
              "      <td>12341434</td>\n",
              "    </tr>\n",
              "    <tr>\n",
              "      <th>2020-10-15</th>\n",
              "      <td>2290.000000</td>\n",
              "      <td>2290.000000</td>\n",
              "      <td>2195.000000</td>\n",
              "      <td>2206.500000</td>\n",
              "      <td>9246702</td>\n",
              "    </tr>\n",
              "    <tr>\n",
              "      <th>2020-10-16</th>\n",
              "      <td>2215.000000</td>\n",
              "      <td>2232.500000</td>\n",
              "      <td>2172.649902</td>\n",
              "      <td>2175.800049</td>\n",
              "      <td>9960828</td>\n",
              "    </tr>\n",
              "    <tr>\n",
              "      <th>2020-10-19</th>\n",
              "      <td>2190.050049</td>\n",
              "      <td>2228.699951</td>\n",
              "      <td>2155.149902</td>\n",
              "      <td>2176.199951</td>\n",
              "      <td>14398973</td>\n",
              "    </tr>\n",
              "    <tr>\n",
              "      <th>2020-10-20</th>\n",
              "      <td>2179.000000</td>\n",
              "      <td>2193.000000</td>\n",
              "      <td>2152.250000</td>\n",
              "      <td>2155.899902</td>\n",
              "      <td>8529573</td>\n",
              "    </tr>\n",
              "    <tr>\n",
              "      <th>2020-10-21</th>\n",
              "      <td>2168.000000</td>\n",
              "      <td>2192.000000</td>\n",
              "      <td>2097.750000</td>\n",
              "      <td>2124.600098</td>\n",
              "      <td>15728986</td>\n",
              "    </tr>\n",
              "    <tr>\n",
              "      <th>2020-10-22</th>\n",
              "      <td>2127.399902</td>\n",
              "      <td>2132.500000</td>\n",
              "      <td>2091.000000</td>\n",
              "      <td>2106.949951</td>\n",
              "      <td>14215215</td>\n",
              "    </tr>\n",
              "    <tr>\n",
              "      <th>2020-10-23</th>\n",
              "      <td>2106.000000</td>\n",
              "      <td>2135.000000</td>\n",
              "      <td>2096.399902</td>\n",
              "      <td>2113.050049</td>\n",
              "      <td>10809307</td>\n",
              "    </tr>\n",
              "  </tbody>\n",
              "</table>\n",
              "</div>"
            ],
            "text/plain": [
              "                   Open         High          Low        Close    Volume\n",
              "Date                                                                    \n",
              "2020-10-12  2235.000000  2255.750000  2226.250000  2237.050049   6565515\n",
              "2020-10-13  2230.600098  2285.750000  2225.850098  2280.699951  10666190\n",
              "2020-10-14  2278.899902  2304.000000  2268.500000  2287.500000  12341434\n",
              "2020-10-15  2290.000000  2290.000000  2195.000000  2206.500000   9246702\n",
              "2020-10-16  2215.000000  2232.500000  2172.649902  2175.800049   9960828\n",
              "2020-10-19  2190.050049  2228.699951  2155.149902  2176.199951  14398973\n",
              "2020-10-20  2179.000000  2193.000000  2152.250000  2155.899902   8529573\n",
              "2020-10-21  2168.000000  2192.000000  2097.750000  2124.600098  15728986\n",
              "2020-10-22  2127.399902  2132.500000  2091.000000  2106.949951  14215215\n",
              "2020-10-23  2106.000000  2135.000000  2096.399902  2113.050049  10809307"
            ]
          },
          "metadata": {
            "tags": []
          },
          "execution_count": 259
        }
      ]
    },
    {
      "cell_type": "code",
      "metadata": {
        "id": "7OioS8AaVocS",
        "colab": {
          "base_uri": "https://localhost:8080/"
        },
        "outputId": "431a1a59-479d-4b3d-f1bc-bc1f9b04de81"
      },
      "source": [
        "dataset_test.info()"
      ],
      "execution_count": null,
      "outputs": [
        {
          "output_type": "stream",
          "text": [
            "<class 'pandas.core.frame.DataFrame'>\n",
            "DatetimeIndex: 23 entries, 2020-10-12 to 2020-11-11\n",
            "Data columns (total 5 columns):\n",
            " #   Column  Non-Null Count  Dtype  \n",
            "---  ------  --------------  -----  \n",
            " 0   Open    23 non-null     float64\n",
            " 1   High    23 non-null     float64\n",
            " 2   Low     23 non-null     float64\n",
            " 3   Close   23 non-null     float64\n",
            " 4   Volume  23 non-null     int64  \n",
            "dtypes: float64(4), int64(1)\n",
            "memory usage: 1.1 KB\n"
          ],
          "name": "stdout"
        }
      ]
    },
    {
      "cell_type": "code",
      "metadata": {
        "id": "2xdksatqVzfR"
      },
      "source": [
        "test_set=dataset_test['Close']\n",
        "test_set=pd.DataFrame(test_set)"
      ],
      "execution_count": null,
      "outputs": []
    },
    {
      "cell_type": "code",
      "metadata": {
        "id": "4PNszX1oV5-L",
        "colab": {
          "base_uri": "https://localhost:8080/"
        },
        "outputId": "f94bac90-98ca-4e29-f493-ff3cc0affb8a"
      },
      "source": [
        "test_set.info()"
      ],
      "execution_count": null,
      "outputs": [
        {
          "output_type": "stream",
          "text": [
            "<class 'pandas.core.frame.DataFrame'>\n",
            "DatetimeIndex: 23 entries, 2020-10-12 to 2020-11-11\n",
            "Data columns (total 1 columns):\n",
            " #   Column  Non-Null Count  Dtype  \n",
            "---  ------  --------------  -----  \n",
            " 0   Close   23 non-null     float64\n",
            "dtypes: float64(1)\n",
            "memory usage: 368.0 bytes\n"
          ],
          "name": "stdout"
        }
      ]
    },
    {
      "cell_type": "code",
      "metadata": {
        "id": "DfmDVDI4V83_"
      },
      "source": [
        "# Getting the predicted stock price of 2017(taken as preference year)\n",
        "dataset_total = pd.concat((dataset['Close'], dataset_test['Close']), axis = 0)\n",
        "inputs = dataset_total[len(dataset_total) - len(dataset_test) - 50:].values\n",
        "inputs = inputs.reshape(-1,1)\n",
        "inputs = sc.transform(inputs)\n",
        "X_test = []\n",
        "for i in range(50, 73):\n",
        "    X_test.append(inputs[i-50:i, 0])\n",
        "X_test = np.array(X_test)\n",
        "X_test = np.reshape(X_test, (X_test.shape[0], X_test.shape[1], 1))\n",
        "predicted_stock_price = regressor.predict(X_test)\n",
        "predicted_stock_price = sc.inverse_transform(predicted_stock_price)"
      ],
      "execution_count": null,
      "outputs": []
    },
    {
      "cell_type": "code",
      "metadata": {
        "id": "T0Pn2FxxWJN8",
        "colab": {
          "base_uri": "https://localhost:8080/"
        },
        "outputId": "91770ffc-2be1-4f0d-bad4-ccda36e8ada2"
      },
      "source": [
        "predicted_stock_price=pd.DataFrame(predicted_stock_price)\n",
        "predicted_stock_price.info()"
      ],
      "execution_count": null,
      "outputs": [
        {
          "output_type": "stream",
          "text": [
            "<class 'pandas.core.frame.DataFrame'>\n",
            "RangeIndex: 23 entries, 0 to 22\n",
            "Data columns (total 1 columns):\n",
            " #   Column  Non-Null Count  Dtype  \n",
            "---  ------  --------------  -----  \n",
            " 0   0       23 non-null     float32\n",
            "dtypes: float32(1)\n",
            "memory usage: 220.0 bytes\n"
          ],
          "name": "stdout"
        }
      ]
    },
    {
      "cell_type": "code",
      "metadata": {
        "id": "1FGP0awCWOhU",
        "colab": {
          "base_uri": "https://localhost:8080/",
          "height": 295
        },
        "outputId": "1d5a734d-f3e1-415d-e04c-9613959b76dd"
      },
      "source": [
        "# Visualising the results\n",
        "plt.plot(real_stock_price, color = 'green', label = 'Real Reliance Stock Price')\n",
        "plt.plot(predicted_stock_price, color = 'orange', label = 'Predicted Reliance Stock Price')\n",
        "plt.title('Reliance Stock Price Prediction')\n",
        "plt.xlabel('Time')\n",
        "plt.ylabel('Reliance Stock Price')\n",
        "plt.legend()\n",
        "plt.show()\n"
      ],
      "execution_count": null,
      "outputs": [
        {
          "output_type": "display_data",
          "data": {
            "image/png": "[encoded data removed]",
            "text/plain": [
              "<Figure size 432x288 with 1 Axes>"
            ]
          },
          "metadata": {
            "tags": [],
            "needs_background": "light"
          }
        }
      ]
    },
    {
      "cell_type": "markdown",
      "metadata": {
        "id": "HY7G5Gc5Lqnm"
      },
      "source": [
        "## **We can observe that the graph of real and predicted stock price seem to start converging, as we process the data further, indicating that the rate of information accuracy is growing with each calculation and timestamp.**"
      ]
    },
    {
      "cell_type": "code",
      "metadata": {
        "id": "krxAX6J1WcIn"
      },
      "source": [
        "# Importing the enecessary libraries\r\n",
        "import re\r\n",
        "import numpy as np\r\n",
        "import pandas as pd\r\n",
        "from sklearn.model_selection import train_test_split\r\n",
        "import matplotlib.pyplot as plt\r\n",
        "\r\n",
        "from keras.models import Sequential, load_model\r\n",
        "from keras.layers import Dense, LSTM, Embedding, Dropout\r\n",
        "from keras.preprocessing.text import Tokenizer\r\n",
        "from keras.preprocessing.sequence import pad_sequences"
      ],
      "execution_count": 5,
      "outputs": []
    },
    {
      "cell_type": "code",
      "metadata": {
        "id": "QLcKsW8YMiwF",
        "outputId": "269967cb-8c44-4d10-e730-9ae82b3ac8dd",
        "colab": {
          "base_uri": "https://localhost:8080/",
          "height": 299
        }
      },
      "source": [
        "# Analyzing the sentiment and the data attatched to it\r\n",
        "sentiment_data = pd.read_csv('/content/sentiment_data.tsv',sep='        ')\r\n",
        "sentiment_data = sentiment_data.sample(frac=1).reset_index(drop=True)\r\n",
        "print(sentiment_data.shape)\r\n",
        "sentiment_data.head()"
      ],
      "execution_count": 22,
      "outputs": [
        {
          "output_type": "stream",
          "text": [
            "(958, 2)\n"
          ],
          "name": "stdout"
        },
        {
          "output_type": "stream",
          "text": [
            "/usr/local/lib/python3.6/dist-packages/ipykernel_launcher.py:2: ParserWarning:\n",
            "\n",
            "Falling back to the 'python' engine because the 'c' engine does not support regex separators (separators > 1 char and different from '\\s+' are interpreted as regex); you can avoid this warning by specifying engine='python'.\n",
            "\n"
          ],
          "name": "stderr"
        },
        {
          "output_type": "execute_result",
          "data": {
            "text/html": [
              "<div>\n",
              "<style scoped>\n",
              "    .dataframe tbody tr th:only-of-type {\n",
              "        vertical-align: middle;\n",
              "    }\n",
              "\n",
              "    .dataframe tbody tr th {\n",
              "        vertical-align: top;\n",
              "    }\n",
              "\n",
              "    .dataframe thead th {\n",
              "        text-align: right;\n",
              "    }\n",
              "</style>\n",
              "<table border=\"1\" class=\"dataframe\">\n",
              "  <thead>\n",
              "    <tr style=\"text-align: right;\">\n",
              "      <th></th>\n",
              "      <th>Text</th>\n",
              "      <th>Feeling</th>\n",
              "    </tr>\n",
              "  </thead>\n",
              "  <tbody>\n",
              "    <tr>\n",
              "      <th>0</th>\n",
              "      <td>i feel kerry didnt do by supporting civil unio...</td>\n",
              "      <td>love</td>\n",
              "    </tr>\n",
              "    <tr>\n",
              "      <th>1</th>\n",
              "      <td>i feel when you are a caring person you attrac...</td>\n",
              "      <td>love</td>\n",
              "    </tr>\n",
              "    <tr>\n",
              "      <th>2</th>\n",
              "      <td>i wonder sometimes whether i have just added t...</td>\n",
              "      <td>fear</td>\n",
              "    </tr>\n",
              "    <tr>\n",
              "      <th>3</th>\n",
              "      <td>i always know when i am feeling artistic when ...</td>\n",
              "      <td>joy</td>\n",
              "    </tr>\n",
              "    <tr>\n",
              "      <th>4</th>\n",
              "      <td>i stopped feeling so exhausted a href http pro...</td>\n",
              "      <td>sadness</td>\n",
              "    </tr>\n",
              "  </tbody>\n",
              "</table>\n",
              "</div>"
            ],
            "text/plain": [
              "                                                Text  Feeling\n",
              "0  i feel kerry didnt do by supporting civil unio...     love\n",
              "1  i feel when you are a caring person you attrac...     love\n",
              "2  i wonder sometimes whether i have just added t...     fear\n",
              "3  i always know when i am feeling artistic when ...      joy\n",
              "4  i stopped feeling so exhausted a href http pro...  sadness"
            ]
          },
          "metadata": {
            "tags": []
          },
          "execution_count": 22
        }
      ]
    },
    {
      "cell_type": "code",
      "metadata": {
        "id": "7YGleesyXuex",
        "outputId": "410b9e91-0dd7-4e96-f50d-7dba2826259c",
        "colab": {
          "base_uri": "https://localhost:8080/",
          "height": 195
        }
      },
      "source": [
        "sentiment_data = sentiment_data[ ['Feeling', 'Text']]\r\n",
        "sentiment_data.head()"
      ],
      "execution_count": 24,
      "outputs": [
        {
          "output_type": "execute_result",
          "data": {
            "text/html": [
              "<div>\n",
              "<style scoped>\n",
              "    .dataframe tbody tr th:only-of-type {\n",
              "        vertical-align: middle;\n",
              "    }\n",
              "\n",
              "    .dataframe tbody tr th {\n",
              "        vertical-align: top;\n",
              "    }\n",
              "\n",
              "    .dataframe thead th {\n",
              "        text-align: right;\n",
              "    }\n",
              "</style>\n",
              "<table border=\"1\" class=\"dataframe\">\n",
              "  <thead>\n",
              "    <tr style=\"text-align: right;\">\n",
              "      <th></th>\n",
              "      <th>Feeling</th>\n",
              "      <th>Text</th>\n",
              "    </tr>\n",
              "  </thead>\n",
              "  <tbody>\n",
              "    <tr>\n",
              "      <th>0</th>\n",
              "      <td>love</td>\n",
              "      <td>i feel kerry didnt do by supporting civil unio...</td>\n",
              "    </tr>\n",
              "    <tr>\n",
              "      <th>1</th>\n",
              "      <td>love</td>\n",
              "      <td>i feel when you are a caring person you attrac...</td>\n",
              "    </tr>\n",
              "    <tr>\n",
              "      <th>2</th>\n",
              "      <td>fear</td>\n",
              "      <td>i wonder sometimes whether i have just added t...</td>\n",
              "    </tr>\n",
              "    <tr>\n",
              "      <th>3</th>\n",
              "      <td>joy</td>\n",
              "      <td>i always know when i am feeling artistic when ...</td>\n",
              "    </tr>\n",
              "    <tr>\n",
              "      <th>4</th>\n",
              "      <td>sadness</td>\n",
              "      <td>i stopped feeling so exhausted a href http pro...</td>\n",
              "    </tr>\n",
              "  </tbody>\n",
              "</table>\n",
              "</div>"
            ],
            "text/plain": [
              "   Feeling                                               Text\n",
              "0     love  i feel kerry didnt do by supporting civil unio...\n",
              "1     love  i feel when you are a caring person you attrac...\n",
              "2     fear  i wonder sometimes whether i have just added t...\n",
              "3      joy  i always know when i am feeling artistic when ...\n",
              "4  sadness  i stopped feeling so exhausted a href http pro..."
            ]
          },
          "metadata": {
            "tags": []
          },
          "execution_count": 24
        }
      ]
    },
    {
      "cell_type": "code",
      "metadata": {
        "id": "6XUt4hTge-qE",
        "outputId": "b0237270-2422-4733-a8e0-5a4ffbe87dae",
        "colab": {
          "base_uri": "https://localhost:8080/",
          "height": 195
        }
      },
      "source": [
        "new_row = pd.DataFrame({'Feeling':'sadness','Text':'I am isolated, i need friends'}, \r\n",
        "                                                            index =[0]) \r\n",
        "# simply concatenate both dataframes \r\n",
        "sentiment_data = pd.concat([new_row, sentiment_data]).reset_index(drop = True) \r\n",
        "sentiment_data.head(5) "
      ],
      "execution_count": 25,
      "outputs": [
        {
          "output_type": "execute_result",
          "data": {
            "text/html": [
              "<div>\n",
              "<style scoped>\n",
              "    .dataframe tbody tr th:only-of-type {\n",
              "        vertical-align: middle;\n",
              "    }\n",
              "\n",
              "    .dataframe tbody tr th {\n",
              "        vertical-align: top;\n",
              "    }\n",
              "\n",
              "    .dataframe thead th {\n",
              "        text-align: right;\n",
              "    }\n",
              "</style>\n",
              "<table border=\"1\" class=\"dataframe\">\n",
              "  <thead>\n",
              "    <tr style=\"text-align: right;\">\n",
              "      <th></th>\n",
              "      <th>Feeling</th>\n",
              "      <th>Text</th>\n",
              "    </tr>\n",
              "  </thead>\n",
              "  <tbody>\n",
              "    <tr>\n",
              "      <th>0</th>\n",
              "      <td>sadness</td>\n",
              "      <td>I am isolated, i need friends</td>\n",
              "    </tr>\n",
              "    <tr>\n",
              "      <th>1</th>\n",
              "      <td>love</td>\n",
              "      <td>i feel kerry didnt do by supporting civil unio...</td>\n",
              "    </tr>\n",
              "    <tr>\n",
              "      <th>2</th>\n",
              "      <td>love</td>\n",
              "      <td>i feel when you are a caring person you attrac...</td>\n",
              "    </tr>\n",
              "    <tr>\n",
              "      <th>3</th>\n",
              "      <td>fear</td>\n",
              "      <td>i wonder sometimes whether i have just added t...</td>\n",
              "    </tr>\n",
              "    <tr>\n",
              "      <th>4</th>\n",
              "      <td>joy</td>\n",
              "      <td>i always know when i am feeling artistic when ...</td>\n",
              "    </tr>\n",
              "  </tbody>\n",
              "</table>\n",
              "</div>"
            ],
            "text/plain": [
              "   Feeling                                               Text\n",
              "0  sadness                      I am isolated, i need friends\n",
              "1     love  i feel kerry didnt do by supporting civil unio...\n",
              "2     love  i feel when you are a caring person you attrac...\n",
              "3     fear  i wonder sometimes whether i have just added t...\n",
              "4      joy  i always know when i am feeling artistic when ..."
            ]
          },
          "metadata": {
            "tags": []
          },
          "execution_count": 25
        }
      ]
    },
    {
      "cell_type": "code",
      "metadata": {
        "id": "s-8EpKU4fJXl",
        "outputId": "730a2796-33d7-42eb-b08a-5ff753e5edca",
        "colab": {
          "base_uri": "https://localhost:8080/",
          "height": 316
        }
      },
      "source": [
        "# analyzing the various emotions attatched to the headlines\r\n",
        "sentiment_data['Feeling'].value_counts().sort_index().plot.bar()"
      ],
      "execution_count": 27,
      "outputs": [
        {
          "output_type": "execute_result",
          "data": {
            "text/plain": [
              "<matplotlib.axes._subplots.AxesSubplot at 0x7f80c06d13c8>"
            ]
          },
          "metadata": {
            "tags": []
          },
          "execution_count": 27
        },
        {
          "output_type": "display_data",
          "data": {
            "image/png": "[encoded data removed]",
            "text/plain": [
              "<Figure size 432x288 with 1 Axes>"
            ]
          },
          "metadata": {
            "tags": [],
            "needs_background": "light"
          }
        }
      ]
    },
    {
      "cell_type": "code",
      "metadata": {
        "id": "0UOB6zbDfQ8y",
        "outputId": "29b192f3-3dde-479f-f724-21018d6786d5",
        "colab": {
          "base_uri": "https://localhost:8080/",
          "height": 282
        }
      },
      "source": [
        "# Analyzing the length of the headlines in the dataset\r\n",
        "sentiment_data['Text'].str.len().plot.hist()"
      ],
      "execution_count": 28,
      "outputs": [
        {
          "output_type": "execute_result",
          "data": {
            "text/plain": [
              "<matplotlib.axes._subplots.AxesSubplot at 0x7f80c0651a20>"
            ]
          },
          "metadata": {
            "tags": []
          },
          "execution_count": 28
        },
        {
          "output_type": "display_data",
          "data": {
            "image/png": "[encoded data removed]",
            "text/plain": [
              "<Figure size 432x288 with 1 Axes>"
            ]
          },
          "metadata": {
            "tags": [],
            "needs_background": "light"
          }
        }
      ]
    },
    {
      "cell_type": "code",
      "metadata": {
        "id": "p9YsSUxMfc6k",
        "outputId": "a5823096-1953-4f09-a8d0-ea767020526a",
        "colab": {
          "base_uri": "https://localhost:8080/"
        }
      },
      "source": [
        "# Arranging data in lowercase format to apply tokenization in the later stage \r\n",
        "sentiment_data['Text'].apply(lambda x: x.lower()) #transform text to lowercase\r\n",
        "sentiment_data['Text'] = sentiment_data['Text'].apply(lambda x: re.sub('[^a-zA-z0-9\\s]', '', x))\r\n",
        "sentiment_data['Text'].head()"
      ],
      "execution_count": 29,
      "outputs": [
        {
          "output_type": "execute_result",
          "data": {
            "text/plain": [
              "0                         I am isolated i need friends\n",
              "1    i feel kerry didnt do by supporting civil unio...\n",
              "2    i feel when you are a caring person you attrac...\n",
              "3    i wonder sometimes whether i have just added t...\n",
              "4    i always know when i am feeling artistic when ...\n",
              "Name: Text, dtype: object"
            ]
          },
          "metadata": {
            "tags": []
          },
          "execution_count": 29
        }
      ]
    },
    {
      "cell_type": "code",
      "metadata": {
        "id": "J0OiQvRCfp3Q",
        "outputId": "2d03344f-8c31-481c-b39b-86e395fefbae",
        "colab": {
          "base_uri": "https://localhost:8080/"
        }
      },
      "source": [
        "# Applying tokenization of the data \r\n",
        "tokenizer = Tokenizer(num_words=5000, split=\" \")\r\n",
        "tokenizer.fit_on_texts(sentiment_data['Text'].values)\r\n",
        "\r\n",
        "X = tokenizer.texts_to_sequences(sentiment_data['Text'].values)\r\n",
        "X = pad_sequences(X) # padding our text vector so they all have the same length\r\n",
        "X[:6]"
      ],
      "execution_count": 30,
      "outputs": [
        {
          "output_type": "execute_result",
          "data": {
            "text/plain": [
              "array([[   0,    0,    0,    0,    0,    0,    0,    0,    0,    0,    0,\n",
              "           0,    0,    0,    0,    0,    0,    0,    0,    0,    0,    0,\n",
              "           0,    0,    0,    0,    0,    0,    0,    0,    0,    0,    0,\n",
              "           0,    0,    0,    0,    0,    0,    0,    0,    0,    0,    0,\n",
              "           0,    0,    0,    0,    0,    0,    0,    0,    0,    0,    0,\n",
              "           0,    0,    0,    1,   19,  396,    1,  102,  346],\n",
              "       [   0,    0,    0,    0,    0,    0,    0,    0,    0,    0,    0,\n",
              "           0,    0,    0,    0,    0,    0,    0,    0,    0,    0,    0,\n",
              "           0,    0,    0,    0,    0,    0,    0,    0,    0,    0,    0,\n",
              "           0,    0,    0,    0,    0,    0,    0,    0,    0,    0,    0,\n",
              "           0,    0,    0,    0,    0,    0,    0,    0,    1,    2, 1285,\n",
              "         112,   41,   46,  397,  853, 1286,    3, 1287, 1288],\n",
              "       [   0,    0,    0,    0,    0,    0,    0,    0,    0,    0,    0,\n",
              "           0,    0,    0,    0,    0,    0,    0,    0,    0,    0,    0,\n",
              "           0,    0,    0,    0,    0,    0,    0,    0,    0,    0,    0,\n",
              "           0,    0,    0,    0,    0,    0,    0,    0,    0,    0,    0,\n",
              "           0,    0,    0,    0,    1,    2,   31,   33,   38,    6,  488,\n",
              "         258,   33, 1289,   96,  488,   55,  126,  119,   54],\n",
              "       [   0,    0,    0,    0,    0,    0,    0,    0,    0,    0,    0,\n",
              "           0,    0,    0,    0,    0,    0,    0,    0,    0,    0,    0,\n",
              "           0,    0,    0,    0,    0,    0,    0,    0,    0,    0,    1,\n",
              "         295,  191,  259,    1,   14,   34,  854,    4,    5, 1290,    3,\n",
              "        1291,    8,  138,   55,   14,  489,  113,    7,  171,   87,    2,\n",
              "         490,    4, 1292,  491,    5, 1293, 1294,  120, 1295],\n",
              "       [   0,    0,    0,    0,    0,    0,    0,    0,    1,  106,   51,\n",
              "          31,    1,   19,    9,  627,   31,    1,  180,   10,  492,  147,\n",
              "           1,   19,   11,   68,  627,  855,    5,    1,   11, 1296,    1,\n",
              "         856,    6, 1297,   23,    6,  857,    5,  858,    5,  857,    5,\n",
              "          35,  627,    1,   19,    9,    3,   36,   13,   15,   34,    6,\n",
              "         628,   12,   68, 1298,  629,   11, 1299,   20,  630],\n",
              "       [   0,    0,    0,    0,    0,    0,    0,    0,    0,    0,    0,\n",
              "           0,    0,    0,    0,    0,    0,    0,    0,    0,    0,    0,\n",
              "           0,    0,    0,    0,    0,    0,    0,    0,    0,    0,    0,\n",
              "           0,    0,    0,    0,    0,    0,    0,    0,    0,    0,    0,\n",
              "           0,    0,    0,    0,    0,    0,    0,    0,    0,    0,    0,\n",
              "           1,  859,    9,   17,  860,    6,  631,  493, 1300]],\n",
              "      dtype=int32)"
            ]
          },
          "metadata": {
            "tags": []
          },
          "execution_count": 30
        }
      ]
    },
    {
      "cell_type": "code",
      "metadata": {
        "id": "xRgmmo87gAML"
      },
      "source": [
        "# RNN activation model inilitialization\r\n",
        "model = Sequential()\r\n",
        "model.add(Embedding(5000, 256, input_length=X.shape[1]))\r\n",
        "model.add(Dropout(0.3))\r\n",
        "model.add(LSTM(256, return_sequences=True, dropout=0.3, recurrent_dropout=0.2))\r\n",
        "model.add(LSTM(256, dropout=0.3, recurrent_dropout=0.2))\r\n",
        "model.add(Dense(6, activation='softmax'))"
      ],
      "execution_count": 31,
      "outputs": []
    },
    {
      "cell_type": "code",
      "metadata": {
        "id": "06crmTTfgKCk",
        "outputId": "42340022-a35e-43f4-93ea-04676ad45e83",
        "colab": {
          "base_uri": "https://localhost:8080/"
        }
      },
      "source": [
        "# Using the Adam Optimization Technique ( to handle problems and optimization of gradient descends)\r\n",
        "model.compile(loss='categorical_crossentropy', optimizer='adam', metrics=['accuracy'])\r\n",
        "model.summary()"
      ],
      "execution_count": 32,
      "outputs": [
        {
          "output_type": "stream",
          "text": [
            "Model: \"sequential\"\n",
            "_________________________________________________________________\n",
            "Layer (type)                 Output Shape              Param #   \n",
            "=================================================================\n",
            "embedding (Embedding)        (None, 64, 256)           1280000   \n",
            "_________________________________________________________________\n",
            "dropout (Dropout)            (None, 64, 256)           0         \n",
            "_________________________________________________________________\n",
            "lstm (LSTM)                  (None, 64, 256)           525312    \n",
            "_________________________________________________________________\n",
            "lstm_1 (LSTM)                (None, 256)               525312    \n",
            "_________________________________________________________________\n",
            "dense (Dense)                (None, 6)                 1542      \n",
            "=================================================================\n",
            "Total params: 2,332,166\n",
            "Trainable params: 2,332,166\n",
            "Non-trainable params: 0\n",
            "_________________________________________________________________\n"
          ],
          "name": "stdout"
        }
      ]
    },
    {
      "cell_type": "code",
      "metadata": {
        "id": "ygqr0tDlgMkF",
        "outputId": "15d0ffa4-c488-4be9-ec61-5076ede4ecdc",
        "colab": {
          "base_uri": "https://localhost:8080/"
        }
      },
      "source": [
        "# Basically each sentiment is initialized with a matrix encoded value (can be assumed like a binary value for ease of understadning)\r\n",
        "# We can observe that no, 2 same values have been assigned to different sentiments\r\n",
        "y = pd.get_dummies(sentiment_data['Feeling']).values\r\n",
        "[print(sentiment_data['Feeling'][i], y[i]) for i in range(0,8)]"
      ],
      "execution_count": 35,
      "outputs": [
        {
          "output_type": "stream",
          "text": [
            "sadness [0 0 0 0 1 0]\n",
            "love [0 0 0 1 0 0]\n",
            "love [0 0 0 1 0 0]\n",
            "fear [0 1 0 0 0 0]\n",
            "joy [0 0 1 0 0 0]\n",
            "sadness [0 0 0 0 1 0]\n",
            "joy [0 0 1 0 0 0]\n",
            "anger [1 0 0 0 0 0]\n"
          ],
          "name": "stdout"
        },
        {
          "output_type": "execute_result",
          "data": {
            "text/plain": [
              "[None, None, None, None, None, None, None, None]"
            ]
          },
          "metadata": {
            "tags": []
          },
          "execution_count": 35
        }
      ]
    },
    {
      "cell_type": "code",
      "metadata": {
        "id": "HJ0ZLQHRgiDq"
      },
      "source": [
        "# Training model with 80 percent  train data and use the rest 20 percent for testing accuracy\r\n",
        "X_train, X_test, y_train, y_test = train_test_split(X, y, test_size=0.2, random_state=0)"
      ],
      "execution_count": 37,
      "outputs": []
    },
    {
      "cell_type": "code",
      "metadata": {
        "id": "n9xdJewJg503",
        "outputId": "e9b20ddc-7598-4a15-8f85-4f579f2eabcb",
        "colab": {
          "base_uri": "https://localhost:8080/"
        }
      },
      "source": [
        "# Assigning optimum epochs and batch sizes for recomputational purposes\r\n",
        "batch_size = 32\r\n",
        "epochs = 8\r\n",
        "\r\n",
        "model.fit(X_train, y_train, epochs=epochs, batch_size=batch_size, verbose=2)"
      ],
      "execution_count": 38,
      "outputs": [
        {
          "output_type": "stream",
          "text": [
            "Epoch 1/8\n",
            "24/24 - 32s - loss: 1.6716 - accuracy: 0.2816\n",
            "Epoch 2/8\n",
            "24/24 - 27s - loss: 1.6161 - accuracy: 0.3716\n",
            "Epoch 3/8\n",
            "24/24 - 27s - loss: 1.4690 - accuracy: 0.4342\n",
            "Epoch 4/8\n",
            "24/24 - 27s - loss: 1.0768 - accuracy: 0.5893\n",
            "Epoch 5/8\n",
            "24/24 - 27s - loss: 0.7030 - accuracy: 0.7392\n",
            "Epoch 6/8\n",
            "24/24 - 27s - loss: 0.4611 - accuracy: 0.8240\n",
            "Epoch 7/8\n",
            "24/24 - 27s - loss: 0.2672 - accuracy: 0.9061\n",
            "Epoch 8/8\n",
            "24/24 - 27s - loss: 0.1599 - accuracy: 0.9452\n"
          ],
          "name": "stdout"
        },
        {
          "output_type": "execute_result",
          "data": {
            "text/plain": [
              "<tensorflow.python.keras.callbacks.History at 0x7f80bc39b438>"
            ]
          },
          "metadata": {
            "tags": []
          },
          "execution_count": 38
        }
      ]
    },
    {
      "cell_type": "code",
      "metadata": {
        "id": "SduoNiRthLSE",
        "outputId": "69cce4a0-d863-41d2-c142-0db3d6f1440d",
        "colab": {
          "base_uri": "https://localhost:8080/"
        }
      },
      "source": [
        "# Checking for predictions now after model computation \r\n",
        "predictions = model.predict(X_test)\r\n",
        "\r\n",
        "[print(sentiment_data['Text'][i], predictions[i], y_test[i]) for i in range(0, 10)]"
      ],
      "execution_count": 40,
      "outputs": [
        {
          "output_type": "stream",
          "text": [
            "I am isolated i need friends [9.9881518e-01 7.4573129e-04 4.5991590e-05 6.3125277e-05 2.9237170e-04\n",
            " 3.7681533e-05] [0 0 0 0 1 0]\n",
            "i feel kerry didnt do by supporting civil unions and gay equality [0.7995061  0.17155531 0.00080142 0.00243061 0.01848041 0.00722603] [0 1 0 0 0 0]\n",
            "i feel when you are a caring person you attract other caring people into your life [0.46043772 0.33337936 0.00532893 0.12269212 0.00169276 0.07646909] [0 0 0 1 0 0]\n",
            "i wonder sometimes whether i have just added to the antagonism and misunderstanding that many people have towards those of us who feel reluctant to wholeheartedly support the traditional armistice day remembrances [4.9401736e-03 1.1339504e-03 9.4892371e-01 1.0621893e-02 3.3981770e-02\n",
            " 3.9852655e-04] [0 0 1 0 0 0]\n",
            "i always know when i am feeling artistic when i write my name while i am in an artistic mood the i in manitz i draw a circle not a dot the bigger the dot the more artistic i am feeling and if it is just a line like an accent mark in spanish im pissed [0.0456191  0.0217896  0.8024638  0.04818314 0.05259671 0.02934761] [0 0 1 0 0 0]\n",
            "i stopped feeling so exhausted a href http provokingbeauty [0.645105   0.06232389 0.03033176 0.11953995 0.0106244  0.13207507] [1 0 0 0 0 0]\n",
            "i love sliding down on a nice big throbbing cock and feeling what my gorgeous body does to a man [7.7594709e-01 4.7858972e-03 2.8201258e-03 1.3429858e-03 2.1437716e-01\n",
            " 7.2677707e-04] [0 1 0 0 0 0]\n",
            "i want to say how i want to feel just come out so bitter and angry [0.00474483 0.9750177  0.00234916 0.00378198 0.00135377 0.01275264] [0 1 0 0 0 0]\n",
            "i feel as if i must blog constantly for all my loyal fans the baker thia sandwich the scruncher and of course mini t rex [0.749102   0.03661242 0.0453772  0.04282203 0.1142874  0.01179904] [0 0 0 1 0 0]\n",
            "i also think it is puzzling that after this particular administrator has singled me out for praise on my ability to get my students to read that he feels that ssr time is not a productive use of class time [0.07371108 0.5427398  0.0325921  0.12573051 0.02116436 0.20406221] [0 1 0 0 0 0]\n"
          ],
          "name": "stdout"
        },
        {
          "output_type": "execute_result",
          "data": {
            "text/plain": [
              "[None, None, None, None, None, None, None, None, None, None]"
            ]
          },
          "metadata": {
            "tags": []
          },
          "execution_count": 40
        }
      ]
    },
    {
      "cell_type": "markdown",
      "metadata": {
        "id": "BPZv00Uni__S"
      },
      "source": [
        "**We can observe that for each prediciton , the value obtained can be compared with the initial value(the actual value) assigned and hence the accuracy for each headline can be easily determined.**"
      ]
    },
    {
      "cell_type": "markdown",
      "metadata": {
        "id": "Z-8JPTt-hZEL"
      },
      "source": [
        "# **This brings us to the end of our Task.**"
      ]
    }
  ]
}