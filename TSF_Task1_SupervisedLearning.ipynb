{
  "nbformat": 4,
  "nbformat_minor": 0,
  "metadata": {
    "colab": {
      "name": "TSF_Task1_SupervisedLearning.ipynb",
      "provenance": [],
      "authorship_tag": "ABX9TyPJoXu+Tox60K7LgvbwwIZi",
      "include_colab_link": true
    },
    "kernelspec": {
      "name": "python3",
      "display_name": "Python 3"
    }
  },
  "cells": [
    {
      "cell_type": "markdown",
      "metadata": {
        "id": "view-in-github",
        "colab_type": "text"
      },
      "source": [
        "<a href=\"https://colab.research.google.com/github/anmol1810rs/The_Sparks_Foundation_Internship/blob/main/TSF_Task1_SupervisedLearning.ipynb\" target=\"_parent\"><img src=\"https://colab.research.google.com/assets/colab-badge.svg\" alt=\"Open In Colab\"/></a>"
      ]
    },
    {
      "cell_type": "markdown",
      "metadata": {
        "id": "4ecU3iVIGf7H"
      },
      "source": [
        "# **TASK1 - Supervised_Machine_Learning**"
      ]
    },
    {
      "cell_type": "markdown",
      "metadata": {
        "id": "uxXYcIuwF2Yi"
      },
      "source": [
        "My submission of results against task #1 for GRIP internship at The Sparks Foundation. The task basically explores the basics of Supervised Learnig by making predictions between Hours Vs Scores of Students, using Linear Regression implemented with  Scikit Learn."
      ]
    },
    {
      "cell_type": "markdown",
      "metadata": {
        "id": "XR-kpZzDGxbV"
      },
      "source": [
        "# **Problem Statement:**\r\n",
        "\r\n",
        "\r\n"
      ]
    },
    {
      "cell_type": "markdown",
      "metadata": {
        "id": "yzLrbxiFG71M"
      },
      "source": [
        "Predicting the  marks and percentage of a given  student based on the number of hours of study .Calculating  the predicted score if a student studies for 9.25 hrs/day?(based as per instructions given for the task)"
      ]
    },
    {
      "cell_type": "code",
      "metadata": {
        "id": "_1pwg3yjiZWt"
      },
      "source": [
        "#Importing the necessary libraries for evaluation purposes\r\n",
        "import numpy as np\r\n",
        "import pandas as pd\r\n",
        "import pylab as pl\r\n",
        "import matplotlib.pyplot as plt\r\n",
        "%matplotlib inline"
      ],
      "execution_count": 39,
      "outputs": []
    },
    {
      "cell_type": "code",
      "metadata": {
        "id": "mygKkubSirTB",
        "colab": {
          "base_uri": "https://localhost:8080/",
          "height": 787
        },
        "outputId": "7996c035-ebcc-45c0-c0aa-d9b056a548e3"
      },
      "source": [
        "#Reading the data(csv file) from the datset provided by making use of Pandas Dataframe\r\n",
        "df  = pd.read_csv(\"http://bit.ly/w-data\") \r\n",
        "df.head(25)"
      ],
      "execution_count": 40,
      "outputs": [
        {
          "output_type": "execute_result",
          "data": {
            "text/html": [
              "<div>\n",
              "<style scoped>\n",
              "    .dataframe tbody tr th:only-of-type {\n",
              "        vertical-align: middle;\n",
              "    }\n",
              "\n",
              "    .dataframe tbody tr th {\n",
              "        vertical-align: top;\n",
              "    }\n",
              "\n",
              "    .dataframe thead th {\n",
              "        text-align: right;\n",
              "    }\n",
              "</style>\n",
              "<table border=\"1\" class=\"dataframe\">\n",
              "  <thead>\n",
              "    <tr style=\"text-align: right;\">\n",
              "      <th></th>\n",
              "      <th>Hours</th>\n",
              "      <th>Scores</th>\n",
              "    </tr>\n",
              "  </thead>\n",
              "  <tbody>\n",
              "    <tr>\n",
              "      <th>0</th>\n",
              "      <td>2.5</td>\n",
              "      <td>21</td>\n",
              "    </tr>\n",
              "    <tr>\n",
              "      <th>1</th>\n",
              "      <td>5.1</td>\n",
              "      <td>47</td>\n",
              "    </tr>\n",
              "    <tr>\n",
              "      <th>2</th>\n",
              "      <td>3.2</td>\n",
              "      <td>27</td>\n",
              "    </tr>\n",
              "    <tr>\n",
              "      <th>3</th>\n",
              "      <td>8.5</td>\n",
              "      <td>75</td>\n",
              "    </tr>\n",
              "    <tr>\n",
              "      <th>4</th>\n",
              "      <td>3.5</td>\n",
              "      <td>30</td>\n",
              "    </tr>\n",
              "    <tr>\n",
              "      <th>5</th>\n",
              "      <td>1.5</td>\n",
              "      <td>20</td>\n",
              "    </tr>\n",
              "    <tr>\n",
              "      <th>6</th>\n",
              "      <td>9.2</td>\n",
              "      <td>88</td>\n",
              "    </tr>\n",
              "    <tr>\n",
              "      <th>7</th>\n",
              "      <td>5.5</td>\n",
              "      <td>60</td>\n",
              "    </tr>\n",
              "    <tr>\n",
              "      <th>8</th>\n",
              "      <td>8.3</td>\n",
              "      <td>81</td>\n",
              "    </tr>\n",
              "    <tr>\n",
              "      <th>9</th>\n",
              "      <td>2.7</td>\n",
              "      <td>25</td>\n",
              "    </tr>\n",
              "    <tr>\n",
              "      <th>10</th>\n",
              "      <td>7.7</td>\n",
              "      <td>85</td>\n",
              "    </tr>\n",
              "    <tr>\n",
              "      <th>11</th>\n",
              "      <td>5.9</td>\n",
              "      <td>62</td>\n",
              "    </tr>\n",
              "    <tr>\n",
              "      <th>12</th>\n",
              "      <td>4.5</td>\n",
              "      <td>41</td>\n",
              "    </tr>\n",
              "    <tr>\n",
              "      <th>13</th>\n",
              "      <td>3.3</td>\n",
              "      <td>42</td>\n",
              "    </tr>\n",
              "    <tr>\n",
              "      <th>14</th>\n",
              "      <td>1.1</td>\n",
              "      <td>17</td>\n",
              "    </tr>\n",
              "    <tr>\n",
              "      <th>15</th>\n",
              "      <td>8.9</td>\n",
              "      <td>95</td>\n",
              "    </tr>\n",
              "    <tr>\n",
              "      <th>16</th>\n",
              "      <td>2.5</td>\n",
              "      <td>30</td>\n",
              "    </tr>\n",
              "    <tr>\n",
              "      <th>17</th>\n",
              "      <td>1.9</td>\n",
              "      <td>24</td>\n",
              "    </tr>\n",
              "    <tr>\n",
              "      <th>18</th>\n",
              "      <td>6.1</td>\n",
              "      <td>67</td>\n",
              "    </tr>\n",
              "    <tr>\n",
              "      <th>19</th>\n",
              "      <td>7.4</td>\n",
              "      <td>69</td>\n",
              "    </tr>\n",
              "    <tr>\n",
              "      <th>20</th>\n",
              "      <td>2.7</td>\n",
              "      <td>30</td>\n",
              "    </tr>\n",
              "    <tr>\n",
              "      <th>21</th>\n",
              "      <td>4.8</td>\n",
              "      <td>54</td>\n",
              "    </tr>\n",
              "    <tr>\n",
              "      <th>22</th>\n",
              "      <td>3.8</td>\n",
              "      <td>35</td>\n",
              "    </tr>\n",
              "    <tr>\n",
              "      <th>23</th>\n",
              "      <td>6.9</td>\n",
              "      <td>76</td>\n",
              "    </tr>\n",
              "    <tr>\n",
              "      <th>24</th>\n",
              "      <td>7.8</td>\n",
              "      <td>86</td>\n",
              "    </tr>\n",
              "  </tbody>\n",
              "</table>\n",
              "</div>"
            ],
            "text/plain": [
              "    Hours  Scores\n",
              "0     2.5      21\n",
              "1     5.1      47\n",
              "2     3.2      27\n",
              "3     8.5      75\n",
              "4     3.5      30\n",
              "5     1.5      20\n",
              "6     9.2      88\n",
              "7     5.5      60\n",
              "8     8.3      81\n",
              "9     2.7      25\n",
              "10    7.7      85\n",
              "11    5.9      62\n",
              "12    4.5      41\n",
              "13    3.3      42\n",
              "14    1.1      17\n",
              "15    8.9      95\n",
              "16    2.5      30\n",
              "17    1.9      24\n",
              "18    6.1      67\n",
              "19    7.4      69\n",
              "20    2.7      30\n",
              "21    4.8      54\n",
              "22    3.8      35\n",
              "23    6.9      76\n",
              "24    7.8      86"
            ]
          },
          "metadata": {
            "tags": []
          },
          "execution_count": 40
        }
      ]
    },
    {
      "cell_type": "code",
      "metadata": {
        "id": "GpddNPIZwX75",
        "colab": {
          "base_uri": "https://localhost:8080/",
          "height": 284
        },
        "outputId": "119c1f24-89ab-4dd4-bc80-3f71324c3159"
      },
      "source": [
        "#Summarizing the various observations made form the dataset, using the describe() function \r\n",
        "df.describe()"
      ],
      "execution_count": 41,
      "outputs": [
        {
          "output_type": "execute_result",
          "data": {
            "text/html": [
              "<div>\n",
              "<style scoped>\n",
              "    .dataframe tbody tr th:only-of-type {\n",
              "        vertical-align: middle;\n",
              "    }\n",
              "\n",
              "    .dataframe tbody tr th {\n",
              "        vertical-align: top;\n",
              "    }\n",
              "\n",
              "    .dataframe thead th {\n",
              "        text-align: right;\n",
              "    }\n",
              "</style>\n",
              "<table border=\"1\" class=\"dataframe\">\n",
              "  <thead>\n",
              "    <tr style=\"text-align: right;\">\n",
              "      <th></th>\n",
              "      <th>Hours</th>\n",
              "      <th>Scores</th>\n",
              "    </tr>\n",
              "  </thead>\n",
              "  <tbody>\n",
              "    <tr>\n",
              "      <th>count</th>\n",
              "      <td>25.000000</td>\n",
              "      <td>25.000000</td>\n",
              "    </tr>\n",
              "    <tr>\n",
              "      <th>mean</th>\n",
              "      <td>5.012000</td>\n",
              "      <td>51.480000</td>\n",
              "    </tr>\n",
              "    <tr>\n",
              "      <th>std</th>\n",
              "      <td>2.525094</td>\n",
              "      <td>25.286887</td>\n",
              "    </tr>\n",
              "    <tr>\n",
              "      <th>min</th>\n",
              "      <td>1.100000</td>\n",
              "      <td>17.000000</td>\n",
              "    </tr>\n",
              "    <tr>\n",
              "      <th>25%</th>\n",
              "      <td>2.700000</td>\n",
              "      <td>30.000000</td>\n",
              "    </tr>\n",
              "    <tr>\n",
              "      <th>50%</th>\n",
              "      <td>4.800000</td>\n",
              "      <td>47.000000</td>\n",
              "    </tr>\n",
              "    <tr>\n",
              "      <th>75%</th>\n",
              "      <td>7.400000</td>\n",
              "      <td>75.000000</td>\n",
              "    </tr>\n",
              "    <tr>\n",
              "      <th>max</th>\n",
              "      <td>9.200000</td>\n",
              "      <td>95.000000</td>\n",
              "    </tr>\n",
              "  </tbody>\n",
              "</table>\n",
              "</div>"
            ],
            "text/plain": [
              "           Hours     Scores\n",
              "count  25.000000  25.000000\n",
              "mean    5.012000  51.480000\n",
              "std     2.525094  25.286887\n",
              "min     1.100000  17.000000\n",
              "25%     2.700000  30.000000\n",
              "50%     4.800000  47.000000\n",
              "75%     7.400000  75.000000\n",
              "max     9.200000  95.000000"
            ]
          },
          "metadata": {
            "tags": []
          },
          "execution_count": 41
        }
      ]
    },
    {
      "cell_type": "code",
      "metadata": {
        "id": "2lPgh_Dowoh3",
        "colab": {
          "base_uri": "https://localhost:8080/",
          "height": 281
        },
        "outputId": "3d4df63a-df66-48dc-848f-fc34c70efa3a"
      },
      "source": [
        "#A graphical view of value distribution of each of hte specified attributes(Hours and Scores)\r\n",
        "viz  = df[['Hours','Scores']]\r\n",
        "viz.hist()\r\n",
        "plt.show()"
      ],
      "execution_count": 42,
      "outputs": [
        {
          "output_type": "display_data",
          "data": {
            "image/png": "[encoded data removed]",
            "text/plain": [
              "<Figure size 432x288 with 2 Axes>"
            ]
          },
          "metadata": {
            "tags": [],
            "needs_background": "light"
          }
        }
      ]
    },
    {
      "cell_type": "code",
      "metadata": {
        "id": "8B9ETDrQw084",
        "colab": {
          "base_uri": "https://localhost:8080/",
          "height": 295
        },
        "outputId": "c26d0d7c-755f-425e-864d-f145834971e3"
      },
      "source": [
        "#Visualizing the Dataset \r\n",
        "plt.scatter(df.Hours, df.Scores,  color='blue')\r\n",
        "plt.xlabel(\"Hours\")\r\n",
        "plt.ylabel(\"Scores\")\r\n",
        "plt.title(\"Hours Vs Scores\")\r\n",
        "plt.show()"
      ],
      "execution_count": 43,
      "outputs": [
        {
          "output_type": "display_data",
          "data": {
            "image/png": "[encoded data removed]",
            "text/plain": [
              "<Figure size 432x288 with 1 Axes>"
            ]
          },
          "metadata": {
            "tags": [],
            "needs_background": "light"
          }
        }
      ]
    },
    {
      "cell_type": "code",
      "metadata": {
        "id": "ZrgfV2rtxL0Y"
      },
      "source": [
        "#Distributing the Dataset using Training and Testing Arrays\r\n",
        "mask = np.random.rand(len(df)) < 0.8\r\n",
        "train = df[mask]  #to select hte 80 percent data as training set \r\n",
        "test = df[~mask]  # to select the rest of the data as the test set"
      ],
      "execution_count": 45,
      "outputs": []
    },
    {
      "cell_type": "code",
      "metadata": {
        "id": "AUyrPy4-xihD",
        "colab": {
          "base_uri": "https://localhost:8080/",
          "height": 279
        },
        "outputId": "3bf59575-7672-4fd7-e29f-e50eb66e27be"
      },
      "source": [
        "plt.scatter(train.Hours, train.Scores,  color='green')\r\n",
        "plt.xlabel(\"Hours\")\r\n",
        "plt.ylabel(\"Scores\")\r\n",
        "plt.show()"
      ],
      "execution_count": 46,
      "outputs": [
        {
          "output_type": "display_data",
          "data": {
            "image/png": "[encoded data removed]",
            "text/plain": [
              "<Figure size 432x288 with 1 Axes>"
            ]
          },
          "metadata": {
            "tags": [],
            "needs_background": "light"
          }
        }
      ]
    },
    {
      "cell_type": "code",
      "metadata": {
        "id": "tLFibyGfxuQX",
        "colab": {
          "base_uri": "https://localhost:8080/"
        },
        "outputId": "931d0a5a-cf12-4ee3-f9af-fe034181f051"
      },
      "source": [
        "#Visualizing the coefficients and the intercept values \r\n",
        "# Training the linear regression model\r\n",
        "from sklearn import linear_model\r\n",
        "regressor = linear_model.LinearRegression()\r\n",
        "train_x = np.asanyarray(train[['Hours']])\r\n",
        "train_y = np.asanyarray(train[['Scores']])\r\n",
        "regressor.fit (train_x, train_y)\r\n",
        "# The coefficients\r\n",
        "print ('Value of Coefficients: ', regressor.coef_)\r\n",
        "print ('Value of Intercept: ',regressor.intercept_)"
      ],
      "execution_count": 49,
      "outputs": [
        {
          "output_type": "stream",
          "text": [
            "Value of Coefficients:  [[9.28168291]]\n",
            "Value of Intercept:  [3.55425859]\n"
          ],
          "name": "stdout"
        }
      ]
    },
    {
      "cell_type": "code",
      "metadata": {
        "id": "aZD0zja8yASQ",
        "colab": {
          "base_uri": "https://localhost:8080/",
          "height": 296
        },
        "outputId": "ca8257b0-add8-4ac6-bdde-9d14c24c14e7"
      },
      "source": [
        "#Visualizing the Data\r\n",
        "plt.scatter(train.Hours, train.Scores,  color='purple')\r\n",
        "plt.plot(train_x, regressor.coef_[0][0]*train_x + regressor.intercept_[0], '-r')\r\n",
        "plt.xlabel(\"Hours\")\r\n",
        "plt.ylabel(\"Scores\")"
      ],
      "execution_count": 50,
      "outputs": [
        {
          "output_type": "execute_result",
          "data": {
            "text/plain": [
              "Text(0, 0.5, 'Scores')"
            ]
          },
          "metadata": {
            "tags": []
          },
          "execution_count": 50
        },
        {
          "output_type": "display_data",
          "data": {
            "image/png": "[encoded data removed]",
            "text/plain": [
              "<Figure size 432x288 with 1 Axes>"
            ]
          },
          "metadata": {
            "tags": [],
            "needs_background": "light"
          }
        }
      ]
    },
    {
      "cell_type": "code",
      "metadata": {
        "id": "EIJmyGl8ySoT",
        "colab": {
          "base_uri": "https://localhost:8080/"
        },
        "outputId": "36238a7d-a6f0-4bf2-ecd3-23b697a20a3e"
      },
      "source": [
        "#Checking the Dataset Accuracy by implementing various Analysis methods \r\n",
        "from sklearn.metrics import r2_score\r\n",
        "\r\n",
        "test_x = np.asanyarray(test[['Hours']])\r\n",
        "test_y = np.asanyarray(test[['Scores']])\r\n",
        "test_y_ = regressor.predict(test_x)\r\n",
        "\r\n",
        "print(\"Mean absolute error: %.2f\" % np.mean(np.absolute(test_y_ - test_y)))\r\n",
        "print(\"Residual sum of squares (MSE): %.2f\" % np.mean((test_y_ - test_y) ** 2))\r\n",
        "print(\"R2-score: %.2f\" % r2_score(test_y , test_y_) )"
      ],
      "execution_count": 51,
      "outputs": [
        {
          "output_type": "stream",
          "text": [
            "Mean absolute error: 6.87\n",
            "Residual sum of squares (MSE): 52.47\n",
            "R2-score: 0.87\n"
          ],
          "name": "stdout"
        }
      ]
    },
    {
      "cell_type": "code",
      "metadata": {
        "id": "VaHvNywdyhmM",
        "colab": {
          "base_uri": "https://localhost:8080/"
        },
        "outputId": "4d43e78c-38fb-459d-8574-e27b5863fc27"
      },
      "source": [
        "# Comparing Actual vs Predicted set of Values\r\n",
        "df = pd.DataFrame({'Actual': [test_y], 'Predicted': [test_y_]})\r\n",
        "print(df)"
      ],
      "execution_count": 52,
      "outputs": [
        {
          "output_type": "stream",
          "text": [
            "                                              Actual                                          Predicted\n",
            "0  [[27], [60], [85], [42], [67], [69], [35], [76...  [[33.255643919958956], [54.60351462288353], [7...\n"
          ],
          "name": "stdout"
        }
      ]
    },
    {
      "cell_type": "code",
      "metadata": {
        "id": "nZm_DBcuyrXQ",
        "colab": {
          "base_uri": "https://localhost:8080/"
        },
        "outputId": "c07c3136-7ec5-4859-ca99-ea9eaba415d1"
      },
      "source": [
        "#Testing as per the mentioned conditions in the given question sample \r\n",
        "hrs= np.array([9.25])\r\n",
        "\r\n",
        "n_hrs = hrs.reshape(-1, 1)\r\n",
        "own_pred = regressor.predict(n_hrs)\r\n",
        "print(\"No of Hours = {}\".format(n_hrs))\r\n",
        "print(\"Predicted Score = {}\".format(own_pred[0]))"
      ],
      "execution_count": 53,
      "outputs": [
        {
          "output_type": "stream",
          "text": [
            "No of Hours = [[9.25]]\n",
            "Predicted Score = [89.40982555]\n"
          ],
          "name": "stdout"
        }
      ]
    },
    {
      "cell_type": "code",
      "metadata": {
        "id": "nlk1mDQ40SwF"
      },
      "source": [
        ""
      ],
      "execution_count": null,
      "outputs": []
    }
  ]
}